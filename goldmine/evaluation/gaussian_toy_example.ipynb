{
 "cells": [
  {
   "cell_type": "markdown",
   "metadata": {},
   "source": [
    "# Gaussian toy example"
   ]
  },
  {
   "cell_type": "code",
   "execution_count": 10,
   "metadata": {},
   "outputs": [],
   "source": [
    "import numpy as np\n",
    "%matplotlib inline\n",
    "from matplotlib import pyplot as plt\n",
    "from sklearn.metrics import mean_squared_error\n",
    "from scipy.stats import norm"
   ]
  },
  {
   "cell_type": "markdown",
   "metadata": {},
   "source": [
    "## Data"
   ]
  },
  {
   "cell_type": "code",
   "execution_count": 11,
   "metadata": {},
   "outputs": [],
   "source": [
    "theta_train = np.load('../data/samples/gaussian/theta0_train.npy')\n",
    "x_train = np.load('../data/samples/gaussian/x_train.npy')\n",
    "log_p_train = np.log(norm.pdf(x_train, loc=theta_train, scale=(1. + theta_train**2)**0.5))\n",
    "log_p_hat_train = np.load('../data/results/gaussian/maf/log_p_hat_train.npy').reshape((-1,1))\n",
    "log_p_histo_train = np.load('../data/results/gaussian/histogram/log_p_hat_train.npy').reshape((-1,1))\n",
    "\n",
    "theta_test = np.load('../data/samples/gaussian/theta0_test.npy')\n",
    "x_test = np.load('../data/samples/gaussian/x_test.npy')\n",
    "log_p_test = np.log(norm.pdf(x_test, loc=theta_test, scale=(1. + theta_test**2)**0.5))\n",
    "log_p_hat_test = np.load('../data/results/gaussian/maf/log_p_hat_test.npy').reshape((-1,1))\n",
    "log_p_histo_test = np.load('../data/results/gaussian/histogram/log_p_hat_test.npy').reshape((-1,1))"
   ]
  },
  {
   "cell_type": "code",
   "execution_count": 12,
   "metadata": {},
   "outputs": [
    {
     "name": "stdout",
     "output_type": "stream",
     "text": [
      "-1.7459429651516807 -1.7550272422674396\n",
      "-1.6814683631507792 -1.704257474193483\n"
     ]
    }
   ],
   "source": [
    "print(np.mean(log_p_train), np.mean(log_p_hat_train))\n",
    "print(np.mean(log_p_test), np.mean(log_p_hat_test))"
   ]
  },
  {
   "cell_type": "markdown",
   "metadata": {},
   "source": [
    "## Plot"
   ]
  },
  {
   "cell_type": "code",
   "execution_count": null,
   "metadata": {},
   "outputs": [],
   "source": [
    "skip=1\n",
    "fig = plt.figure(figsize=(12,8))\n",
    "\n",
    "\n",
    "\n",
    "ax = plt.subplot(2,3,1)\n",
    "\n",
    "plt.scatter(theta_train[::skip], x_train[::skip], c=log_p_train[::skip], cmap='viridis',\n",
    "            vmin=-3., vmax=-1., s=6.)\n",
    "\n",
    "plt.xlim(-1.,1,)\n",
    "plt.ylim(-4.,4.)\n",
    "\n",
    "\n",
    "\n",
    "ax = plt.subplot(2,3,2)\n",
    "\n",
    "plt.scatter(theta_train[::skip], x_train[::skip], c=log_p_hat_train[::skip], cmap='viridis',\n",
    "            vmin=-3., vmax=-1., s=6.)\n",
    "\n",
    "plt.xlim(-1.,1,)\n",
    "plt.ylim(-4.,4.)\n",
    "\n",
    "\n",
    "\n",
    "ax = plt.subplot(2,3,3)\n",
    "\n",
    "plt.scatter(theta_train[::skip], x_train[::skip], c=log_p_histo_train[::skip], cmap='viridis',\n",
    "            vmin=-3., vmax=-1., s=6.)\n",
    "\n",
    "plt.xlim(-1.,1,)\n",
    "plt.ylim(-4.,4.)\n",
    "\n",
    "\n",
    "\n",
    "ax = plt.subplot(2,3,4)\n",
    "\n",
    "plt.scatter(theta_test, x_test, c=log_p_test, cmap='viridis', vmin=-3., vmax=-1., s=6.)\n",
    "\n",
    "plt.xlim(-1.,1,)\n",
    "plt.ylim(-4.,4.)\n",
    "\n",
    "\n",
    "\n",
    "ax = plt.subplot(2,3,5)\n",
    "\n",
    "plt.scatter(theta_test, x_test, c=log_p_hat_test, cmap='viridis', vmin=-3., vmax=-1., s=6.)\n",
    "\n",
    "plt.xlim(-1.,1,)\n",
    "plt.ylim(-4.,4.)\n",
    "\n",
    "\n",
    "\n",
    "ax = plt.subplot(2,3,6)\n",
    "\n",
    "plt.scatter(theta_test, x_test, c=log_p_histo_test, cmap='viridis', vmin=-3., vmax=-1., s=6.)\n",
    "\n",
    "plt.xlim(-1.,1,)\n",
    "plt.ylim(-4.,4.)\n",
    "\n",
    "\n",
    "\n",
    "plt.tight_layout()\n",
    "plt.show()\n"
   ]
  },
  {
   "cell_type": "code",
   "execution_count": null,
   "metadata": {},
   "outputs": [],
   "source": [
    "fig = plt.figure(figsize=(5,5))\n",
    "\n",
    "plt.plot([-10.,10.], [-10.,10.], ls='--', lw=1., c='0.5')\n",
    "plt.scatter(log_p_test, log_p_hat_test, c=theta_test, cmap='viridis', vmin=-1., vmax=1., s=5.)\n",
    "\n",
    "plt.xlim(-8.,-1.)\n",
    "plt.ylim(-8.,-1.)\n",
    "\n",
    "plt.tight_layout()\n",
    "plt.show()"
   ]
  },
  {
   "cell_type": "code",
   "execution_count": null,
   "metadata": {},
   "outputs": [],
   "source": []
  },
  {
   "cell_type": "code",
   "execution_count": null,
   "metadata": {},
   "outputs": [],
   "source": []
  }
 ],
 "metadata": {
  "kernelspec": {
   "display_name": "Python [conda env:higgs_inference]",
   "language": "python",
   "name": "conda-env-higgs_inference-py"
  },
  "language_info": {
   "codemirror_mode": {
    "name": "ipython",
    "version": 3
   },
   "file_extension": ".py",
   "mimetype": "text/x-python",
   "name": "python",
   "nbconvert_exporter": "python",
   "pygments_lexer": "ipython3",
   "version": "3.6.4"
  }
 },
 "nbformat": 4,
 "nbformat_minor": 2
}
