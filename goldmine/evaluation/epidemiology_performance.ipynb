{
 "cells": [
  {
   "cell_type": "markdown",
   "metadata": {},
   "source": [
    "# First tests of inference methods on the epidemiology problem"
   ]
  },
  {
   "cell_type": "code",
   "execution_count": 62,
   "metadata": {},
   "outputs": [],
   "source": [
    "import numpy as np\n",
    "%matplotlib inline\n",
    "from matplotlib import pyplot as plt\n",
    "from sklearn.metrics import mean_squared_error"
   ]
  },
  {
   "cell_type": "markdown",
   "metadata": {},
   "source": [
    "## Data"
   ]
  },
  {
   "cell_type": "code",
   "execution_count": 63,
   "metadata": {},
   "outputs": [],
   "source": [
    "sample_sizes = [100, 200, 500, 1000, 2000, 5000, 10000, 20000, 50000]\n",
    "methods = ['maf', 'scandal']\n",
    "method_labels = ['MAF', 'SCANDAL']"
   ]
  },
  {
   "cell_type": "code",
   "execution_count": 75,
   "metadata": {},
   "outputs": [
    {
     "name": "stdout",
     "output_type": "stream",
     "text": [
      "100 -119.12809402740882\n",
      "200 -77.12803862434014\n",
      "500 -89.86651520201478\n",
      "1000 -34.78574667894144\n",
      "2000 -9.491409889048809\n",
      "5000 -3.847985012126012\n",
      "10000 -75.77401509351066\n",
      "20000 -1.1766528476466637e+83\n",
      "50000 -1.752012145349335e+28\n",
      "100 -56.43132138179698\n",
      "200 -223.97481514469862\n",
      "500 -73.90168703049756\n",
      "1000 -14.364465929425247\n",
      "2000 -10.217902494913625\n",
      "5000 -4.576776832478959\n",
      "10000 -91.75094507099466\n",
      "20000 -inf\n",
      "50000 -inf\n"
     ]
    }
   ],
   "source": [
    "expected_log_likelihoods = []\n",
    "log_likelihood_mses = []\n",
    "roc_aucs = []\n",
    "\n",
    "log_likelihood_reference = np.load('../data/results/epidemiology/scandal/epidemiology_scandal_test_log_p_hat.npy')\n",
    "\n",
    "for method in methods:\n",
    "    log_likelihood_mses_this_method = []\n",
    "    roc_aucs_this_method = []\n",
    "    expected_log_likelihoods_this_method = []\n",
    "    \n",
    "    for sample_size in sample_sizes:\n",
    "        log_likelihood = np.load('../data/results/epidemiology/' + method\n",
    "                                 + '/epidemiology_' + method + '_trainingsamplesize_'\n",
    "                                 + str(sample_size) + '_test_log_p_hat.npy')\n",
    "        print(sample_size, np.mean(log_likelihood))\n",
    "        roc_auc = np.load('../data/results/epidemiology/' + method\n",
    "                          + '/epidemiology_' + method + '_trainingsamplesize_' + str(sample_size)\n",
    "                          + '_roc_auc_surrogate_vs_simulator.npy')\n",
    "        \n",
    "        try:\n",
    "            mse = mean_squared_error(log_likelihood_reference, log_likelihood)\n",
    "        except ValueError:\n",
    "            mse = np.nan\n",
    "        expected_log_likelihood = 1. / log_likelihood.shape[0] * np.sum(log_likelihood)\n",
    "        \n",
    "        expected_log_likelihoods_this_method.append(expected_log_likelihood)\n",
    "        roc_aucs_this_method.append(roc_auc)\n",
    "        log_likelihood_mses_this_method.append(mse)\n",
    "        \n",
    "    log_likelihood_mses.append(log_likelihood_mses_this_method)\n",
    "    roc_aucs.append(roc_aucs_this_method)\n",
    "    expected_log_likelihoods.append(expected_log_likelihoods_this_method)\n",
    "    \n",
    "expected_log_likelihoods = np.array(expected_log_likelihoods)\n",
    "log_likelihood_mses = np.array(log_likelihood_mses)\n",
    "roc_aucs = np.array(roc_aucs)\n"
   ]
  },
  {
   "cell_type": "code",
   "execution_count": 76,
   "metadata": {},
   "outputs": [
    {
     "data": {
      "text/plain": [
       "array([[nan, nan, nan, nan, nan, nan, nan, nan, nan],\n",
       "       [nan, nan, nan, nan, nan, nan, nan, nan, nan]])"
      ]
     },
     "execution_count": 76,
     "metadata": {},
     "output_type": "execute_result"
    }
   ],
   "source": [
    "log_likelihood_mses"
   ]
  },
  {
   "cell_type": "code",
   "execution_count": 77,
   "metadata": {},
   "outputs": [
    {
     "data": {
      "text/plain": [
       "array([[[0.99999996],\n",
       "        [0.9999797 ],\n",
       "        [0.9999887 ],\n",
       "        [0.99998997],\n",
       "        [0.99997063],\n",
       "        [1.        ],\n",
       "        [0.9999555 ],\n",
       "        [1.        ],\n",
       "        [1.        ]],\n",
       "\n",
       "       [[0.99998978],\n",
       "        [0.9999897 ],\n",
       "        [0.99997782],\n",
       "        [0.99997783],\n",
       "        [0.99998856],\n",
       "        [0.99997962],\n",
       "        [1.        ],\n",
       "        [0.9999886 ],\n",
       "        [0.999999  ]]])"
      ]
     },
     "execution_count": 77,
     "metadata": {},
     "output_type": "execute_result"
    }
   ],
   "source": [
    "roc_aucs"
   ]
  },
  {
   "cell_type": "markdown",
   "metadata": {},
   "source": [
    "## Plot sample size vs performance"
   ]
  },
  {
   "cell_type": "code",
   "execution_count": 78,
   "metadata": {},
   "outputs": [
    {
     "data": {
      "image/png": "[encoded data removed]",
      "text/plain": [
       "<matplotlib.figure.Figure at 0x10c114390>"
      ]
     },
     "metadata": {},
     "output_type": "display_data"
    }
   ],
   "source": [
    "fig = plt.figure(figsize=(12,4))\n",
    "\n",
    "\n",
    "\n",
    "ax = plt.subplot(1,3,1)\n",
    "\n",
    "for m, method in enumerate(method_labels):\n",
    "    plt.plot(sample_sizes, expected_log_likelihoods[m],\n",
    "             lw=1.5, ls='-', marker='o', ms=5.,\n",
    "             label=method)\n",
    "    \n",
    "    plt.legend()\n",
    "    \n",
    "    plt.xlabel('Training sample size')\n",
    "    plt.ylabel('Exp. log likelihood')\n",
    "    plt.ylim(-400.,100.)\n",
    "    ax.set_xscale(\"log\", nonposx='clip')\n",
    "\n",
    "\n",
    "\n",
    "ax = plt.subplot(1,3,2)\n",
    "\n",
    "for m, method in enumerate(method_labels):\n",
    "    plt.plot(sample_sizes, log_likelihood_mses[m],\n",
    "             lw=1.5, ls='-', marker='o', ms=5.,\n",
    "             label=method)\n",
    "    \n",
    "    plt.legend()\n",
    "    \n",
    "    plt.xlabel('Training sample size')\n",
    "    plt.ylabel('MSE (log likelihood) wrt high-statistics model')\n",
    "    plt.ylim(0.,1.1)\n",
    "    ax.set_xscale(\"log\", nonposx='clip')\n",
    "\n",
    "\n",
    "\n",
    "ax = plt.subplot(1,3,3)\n",
    "\n",
    "for m, method in enumerate(method_labels):\n",
    "    plt.plot(sample_sizes, roc_aucs[m],\n",
    "             lw=1.5, ls='-', marker='o', ms=5.,\n",
    "             label=method)\n",
    "    \n",
    "    plt.legend()\n",
    "    \n",
    "    plt.xlabel('Training sample size')\n",
    "    plt.ylabel('ROC AUC between simulator and surrogate samples')\n",
    "    plt.ylim(0.,1.1)\n",
    "    ax.set_xscale(\"log\", nonposx='clip')\n",
    "    \n",
    "    \n",
    "\n",
    "plt.tight_layout()\n",
    "plt.show()\n"
   ]
  },
  {
   "cell_type": "code",
   "execution_count": null,
   "metadata": {},
   "outputs": [],
   "source": []
  },
  {
   "cell_type": "code",
   "execution_count": null,
   "metadata": {},
   "outputs": [],
   "source": []
  }
 ],
 "metadata": {
  "kernelspec": {
   "display_name": "Python [default]",
   "language": "python",
   "name": "python3"
  },
  "language_info": {
   "codemirror_mode": {
    "name": "ipython",
    "version": 3
   },
   "file_extension": ".py",
   "mimetype": "text/x-python",
   "name": "python",
   "nbconvert_exporter": "python",
   "pygments_lexer": "ipython3",
   "version": "3.6.4"
  }
 },
 "nbformat": 4,
 "nbformat_minor": 2
}
