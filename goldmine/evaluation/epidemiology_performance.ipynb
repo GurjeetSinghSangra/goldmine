{
 "cells": [
  {
   "cell_type": "markdown",
   "metadata": {},
   "source": [
    "# First tests of inference methods on the epidemiology problem"
   ]
  },
  {
   "cell_type": "code",
   "execution_count": 1,
   "metadata": {},
   "outputs": [],
   "source": [
    "import numpy as np\n",
    "%matplotlib inline\n",
    "from matplotlib import pyplot as plt"
   ]
  },
  {
   "cell_type": "markdown",
   "metadata": {},
   "source": [
    "## Data"
   ]
  },
  {
   "cell_type": "code",
   "execution_count": 2,
   "metadata": {},
   "outputs": [],
   "source": [
    "sample_sizes = [100, 1000, 10000]\n",
    "methods = ['maf', 'scandal']\n",
    "method_labels = ['MAF', 'SCANDAL']"
   ]
  },
  {
   "cell_type": "code",
   "execution_count": null,
   "metadata": {},
   "outputs": [],
   "source": [
    "expected_log_likelihoods = []\n",
    "log_likelihood_mses = []\n",
    "roc_aucs = []\n",
    "\n",
    "log_likelihood_reference = np.load('../data/results/epidemiology/maf/epidemiology_maf_log_p_hat.npy')\n",
    "\n",
    "for method in methods:\n",
    "    log_likelihood_mses_this_method = []\n",
    "    roc_aucs_this_method = []\n",
    "    expected_log_likelihoods_this_method = []\n",
    "    \n",
    "    for sample_size in sample_sizes:\n",
    "        log_likelihood = np.load('../data/results/epidemiology/' + method\n",
    "                                 + '/epidemiology_maf_samplesize_' + str(sample_size) + '_log_p_hat.npy')\n",
    "        roc_auc = np.load('../data/results/epidemiology/' + method\n",
    "                          + '/epidemiology_maf_samplesize_' + str(sample_size)\n",
    "                          + '_roc_auc_surrogate_vs_simulator')\n",
    "        \n",
    "        mse = mean_squared_error(log_likelihood_reference, log_likelihood)\n",
    "        expected_log_likelihood = 1. / log_likelihood.shape[0] * np.sum(log_likelihood)\n",
    "        \n",
    "        expected_log_likelihoods_this_method.append(expected_log_likelihood)\n",
    "        roc_aucs_this_method.append(roc_auc)\n",
    "        log_likelihood_mses_this_method.append(mse)\n",
    "        \n",
    "    log_likelihood_mses_this_method.append(log_likelihood_mses_this_method)\n",
    "    roc_aucs.append(roc_aucs_this_method)\n",
    "    expected_log_likelihoods.append(expected_log_likelihoods_this_method)\n",
    "    \n",
    "expected_log_likelihoods = np.array(expected_log_likelihoods)\n",
    "log_likelihood_mses = np.array(log_likelihood_mses)\n",
    "roc_aucs = np.array(roc_aucs)\n"
   ]
  },
  {
   "cell_type": "markdown",
   "metadata": {},
   "source": [
    "## Plot sample size vs performance"
   ]
  },
  {
   "cell_type": "code",
   "execution_count": null,
   "metadata": {},
   "outputs": [],
   "source": [
    "fig = plt.figure(figsize=(12,4))\n",
    "\n",
    "\n",
    "\n",
    "ax = plt.subplot(1,3,1)\n",
    "\n",
    "for m, method in enumerate(method_labels):\n",
    "    plt.plot(sample_sizes, expected_log_likelihoods[m],\n",
    "             lw=1.5, ls='-', marker='0', ms=10.,\n",
    "             label=method)\n",
    "    \n",
    "    plt.legend()\n",
    "    \n",
    "    plt.xlabel('Training sample size')\n",
    "    plt.ylabel('Exp. log likelihood')\n",
    "\n",
    "\n",
    "\n",
    "ax = plt.subplot(1,3,2)\n",
    "\n",
    "for m, method in enumerate(method_labels):\n",
    "    plt.plot(sample_sizes, log_likelihood_mses[m],\n",
    "             lw=1.5, ls='-', marker='0', ms=10.,\n",
    "             label=method)\n",
    "    \n",
    "    plt.legend()\n",
    "    \n",
    "    plt.xlabel('Training sample size')\n",
    "    plt.ylabel('MSE (log likelihood) wrt high-statistics model')\n",
    "\n",
    "\n",
    "\n",
    "ax = plt.subplot(1,3,3)\n",
    "\n",
    "for m, method in enumerate(method_labels):\n",
    "    plt.plot(sample_sizes, roc_aucs[m],\n",
    "             lw=1.5, ls='-', marker='0', ms=10.,\n",
    "             label=method)\n",
    "    \n",
    "    plt.legend()\n",
    "    \n",
    "    plt.xlabel('Training sample size')\n",
    "    plt.ylabel('ROC AUC between simulator and surrogate samples')\n",
    "    \n",
    "    \n",
    "\n",
    "plt.tight_layout()\n",
    "plt.show()\n"
   ]
  }
 ],
 "metadata": {
  "kernelspec": {
   "display_name": "Python [default]",
   "language": "python",
   "name": "python3"
  },
  "language_info": {
   "codemirror_mode": {
    "name": "ipython",
    "version": 3
   },
   "file_extension": ".py",
   "mimetype": "text/x-python",
   "name": "python",
   "nbconvert_exporter": "python",
   "pygments_lexer": "ipython3",
   "version": "3.6.4"
  }
 },
 "nbformat": 4,
 "nbformat_minor": 2
}
