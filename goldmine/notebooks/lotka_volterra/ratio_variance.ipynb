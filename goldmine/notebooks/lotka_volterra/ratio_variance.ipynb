{
 "cells": [
  {
   "cell_type": "markdown",
   "metadata": {},
   "source": [
    "# Lotka-Volterra simulator: joint ratio variance vs theta distance"
   ]
  },
  {
   "cell_type": "code",
   "execution_count": 14,
   "metadata": {},
   "outputs": [],
   "source": [
    "import numpy as np\n",
    "import corner\n",
    "from matplotlib import pyplot as plt\n",
    "%matplotlib inline\n",
    "import logging\n",
    "import matplotlib\n",
    "\n",
    "from goldmine.simulators.lotka_volterra import LotkaVolterra\n",
    "\n",
    "logging.basicConfig(format='%(asctime)s  %(message)s', datefmt='%H:%M')\n",
    "logging.getLogger().setLevel(logging.INFO)"
   ]
  },
  {
   "cell_type": "markdown",
   "metadata": {},
   "source": [
    "## Run simulator and collect log r, t"
   ]
  },
  {
   "cell_type": "code",
   "execution_count": 15,
   "metadata": {},
   "outputs": [
    {
     "name": "stdout",
     "output_type": "stream",
     "text": [
      "[-4.60517019 -0.69314718  0.         -4.60517019]\n"
     ]
    }
   ],
   "source": [
    "simulator = LotkaVolterra()\n",
    "theta0 = simulator.theta_defaults(single_theta=True)[0][0]\n",
    "print(theta0)"
   ]
  },
  {
   "cell_type": "code",
   "execution_count": 16,
   "metadata": {},
   "outputs": [],
   "source": [
    "dmin, dmax = 0.001, 1.\n",
    "n_thetas = 50\n",
    "n_samples = 50"
   ]
  },
  {
   "cell_type": "code",
   "execution_count": 19,
   "metadata": {
    "scrolled": true
   },
   "outputs": [
    {
     "name": "stderr",
     "output_type": "stream",
     "text": [
      "12:03  Starting simulation for distance 0.019127055987304017\n",
      "12:04    Var[r(x,z)] = 0.6715231565838026\n",
      "12:04    E[r(x,z)]   = 0.9917208282205361\n",
      "12:04  Starting simulation for distance 0.3812689657259174\n",
      "12:04    Var[r(x,z)] = 2.650132003798797e-24\n",
      "12:04    E[r(x,z)]   = 3.394866678288708e-13\n",
      "12:04  Starting simulation for distance 0.0011492012549771853\n",
      "12:05    Var[r(x,z)] = 0.001551640888582853\n",
      "12:05    E[r(x,z)]   = 1.002397714063408\n",
      "12:05  Starting simulation for distance 0.005116871207769349\n",
      "12:06    Var[r(x,z)] = 0.026514705245265013\n",
      "12:06    E[r(x,z)]   = 0.996338467253369\n",
      "12:06  Starting simulation for distance 0.015562693408459899\n",
      "12:06  Too many steps in simulation. Total rate: 98274.0\n",
      "12:06    Var[r(x,z)] = 0.3539216738321593\n",
      "12:06    E[r(x,z)]   = 1.0086122889136875\n",
      "12:06  Starting simulation for distance 0.0034752095012776604\n",
      "12:07    Var[r(x,z)] = 0.015840877507029415\n",
      "12:07    E[r(x,z)]   = 0.9919641603866174\n",
      "12:07  Starting simulation for distance 0.03369186444455609\n",
      "12:08    Var[r(x,z)] = 0.7107861885456017\n",
      "12:08    E[r(x,z)]   = 0.7629217810507537\n",
      "12:08  Starting simulation for distance 0.07045416165576493\n",
      "12:08    Var[r(x,z)] = 11.797336814402863\n",
      "12:08    E[r(x,z)]   = 0.7360859164494715\n",
      "12:08  Starting simulation for distance 0.22520330792146803\n",
      "12:09    Var[r(x,z)] = 3.211664449435907e-09\n",
      "12:09    E[r(x,z)]   = 1.0595143669983465e-05\n",
      "12:09  Starting simulation for distance 0.038924553873831855\n",
      "12:09    Var[r(x,z)] = 1.9639939059100362\n",
      "12:09    E[r(x,z)]   = 1.020797541849686\n",
      "12:09  Starting simulation for distance 0.2205653966216224\n",
      "12:10    Var[r(x,z)] = 9.497350955358953e-09\n",
      "12:10    E[r(x,z)]   = 1.4932824399395465e-05\n",
      "12:10  Starting simulation for distance 0.0017784352102034645\n",
      "12:10  Too many steps in simulation. Total rate: 98256.0\n",
      "12:10  Too many steps in simulation. Total rate: 98588.0\n",
      "12:11    Var[r(x,z)] = 0.007339483874007496\n",
      "12:11    E[r(x,z)]   = 0.9918793454879584\n",
      "12:11  Starting simulation for distance 0.1636682545693068\n",
      "12:11    Var[r(x,z)] = 0.0013261480822493045\n",
      "12:11    E[r(x,z)]   = 0.005434847256974158\n",
      "12:11  Starting simulation for distance 0.08212768688057054\n",
      "12:12    Var[r(x,z)] = 20.955326502067123\n",
      "12:12    E[r(x,z)]   = 0.8578043093919662\n",
      "12:12  Starting simulation for distance 0.0013065427849063447\n",
      "12:12    Var[r(x,z)] = 0.0033032280915926064\n",
      "12:12    E[r(x,z)]   = 0.9926423594341743\n",
      "12:12  Starting simulation for distance 0.11970535816155747\n",
      "12:13    Var[r(x,z)] = 11.218596772241197\n",
      "12:13    E[r(x,z)]   = 0.5393006965622633\n",
      "12:13  Starting simulation for distance 0.006727507150643036\n",
      "12:13    Var[r(x,z)] = 0.03948489102985715\n",
      "12:13    E[r(x,z)]   = 0.9444516273579967\n",
      "12:13  Starting simulation for distance 0.002048141305998771\n",
      "12:14  Too many steps in simulation. Total rate: 98414.0\n",
      "12:14    Var[r(x,z)] = 0.0043255742939040985\n",
      "12:14    E[r(x,z)]   = 1.0128278315962362\n",
      "12:14  Starting simulation for distance 0.0016128671036924054\n",
      "12:15  Too many steps in simulation. Total rate: 96278.0\n",
      "12:15    Var[r(x,z)] = 0.004940409874030748\n",
      "12:15    E[r(x,z)]   = 0.9937935194610303\n",
      "12:15  Starting simulation for distance 0.897507937604053\n",
      "12:16  Too many steps in simulation. Total rate: 96342.0\n",
      "12:16    Var[r(x,z)] = 4.291278306319925e-191\n",
      "12:16    E[r(x,z)]   = 9.358274222820014e-97\n",
      "12:16  Starting simulation for distance 0.09243302806492595\n",
      "12:16  Too many steps in simulation. Total rate: 98382.0\n",
      "12:17  Too many steps in simulation. Total rate: 98126.0\n",
      "12:17    Var[r(x,z)] = 0.3837257569966013\n",
      "12:17    E[r(x,z)]   = 0.18580580218553025\n",
      "12:17  Starting simulation for distance 0.1617900408791521\n",
      "12:18    Var[r(x,z)] = 187.03480364770493\n",
      "12:18    E[r(x,z)]   = 1.9545164995519082\n",
      "12:18  Starting simulation for distance 0.005348234534530426\n",
      "12:18  Too many steps in simulation. Total rate: 98474.0\n",
      "12:18    Var[r(x,z)] = 0.03924905096945126\n",
      "12:18    E[r(x,z)]   = 0.9657652377658694\n",
      "12:18  Starting simulation for distance 0.16687018629519576\n",
      "12:19  Too many steps in simulation. Total rate: 96516.0\n",
      "12:19    Var[r(x,z)] = 0.047650775249756236\n",
      "12:19    E[r(x,z)]   = 0.04966214491087006\n",
      "12:19  Starting simulation for distance 0.0676197728607881\n",
      "12:20  Too many steps in simulation. Total rate: 98284.0\n",
      "12:20    Var[r(x,z)] = 6.930711296368044\n",
      "12:20    E[r(x,z)]   = 0.8126092022126826\n",
      "12:20  Starting simulation for distance 0.0754542437823926\n",
      "12:21    Var[r(x,z)] = 0.23958718968936274\n",
      "12:21    E[r(x,z)]   = 0.1270648758595604\n",
      "12:21  Starting simulation for distance 0.2501976635042654\n",
      "12:21  Too many steps in simulation. Total rate: 98244.0\n",
      "12:21    Var[r(x,z)] = 3.85563784618454e-08\n",
      "12:21    E[r(x,z)]   = 2.8136528852221147e-05\n",
      "12:21  Starting simulation for distance 0.0017000213670680714\n",
      "12:22    Var[r(x,z)] = 0.0036963693252860036\n",
      "12:22    E[r(x,z)]   = 0.9919328102280635\n",
      "12:22  Starting simulation for distance 0.6090168332293147\n",
      "12:22  Too many steps in simulation. Total rate: 98304.0\n",
      "12:23    Var[r(x,z)] = 3.3111759593761163e-53\n",
      "12:23    E[r(x,z)]   = 8.22040264093581e-28\n",
      "12:23  Starting simulation for distance 0.01453581119685424\n",
      "12:23  Too many steps in simulation. Total rate: 98272.0\n",
      "12:23    Var[r(x,z)] = 0.3509774555278209\n",
      "12:23    E[r(x,z)]   = 1.1415216099450942\n",
      "12:23  Starting simulation for distance 0.005729914536500888\n",
      "12:24    Var[r(x,z)] = 0.024683473144302064\n",
      "12:24    E[r(x,z)]   = 1.0046076091680405\n",
      "12:24  Starting simulation for distance 0.022151330807440247\n",
      "12:24    Var[r(x,z)] = 0.5506285400963356\n",
      "12:24    E[r(x,z)]   = 0.8721608401938048\n",
      "12:24  Starting simulation for distance 0.0018114389720599445\n",
      "12:25    Var[r(x,z)] = 0.005372344156523552\n",
      "12:25    E[r(x,z)]   = 1.0207972742090505\n",
      "12:25  Starting simulation for distance 0.7106844399875132\n",
      "12:25    Var[r(x,z)] = 2.3547661120743465e-105\n",
      "12:25    E[r(x,z)]   = 6.932276052410449e-54\n",
      "12:25  Starting simulation for distance 0.15685603911764043\n",
      "12:26  Too many steps in simulation. Total rate: 98400.0\n",
      "12:26    Var[r(x,z)] = 9.73235666577696e-06\n",
      "12:26    E[r(x,z)]   = 0.0007287825931496728\n",
      "12:26  Starting simulation for distance 0.08701480956891877\n",
      "12:27    Var[r(x,z)] = 1.7538467284790729\n",
      "12:27    E[r(x,z)]   = 0.41771703859414266\n",
      "12:27  Starting simulation for distance 0.0032756834303482377\n",
      "12:27    Var[r(x,z)] = 0.015801661629759517\n",
      "12:27    E[r(x,z)]   = 1.0092831106907447\n",
      "12:27  Starting simulation for distance 0.06665571139011972\n",
      "12:28    Var[r(x,z)] = 4.5135024506404\n",
      "12:28    E[r(x,z)]   = 0.6875056241943556\n",
      "12:28  Starting simulation for distance 0.005740498220104992\n",
      "12:28    Var[r(x,z)] = 0.03386089176319332\n",
      "12:28    E[r(x,z)]   = 1.023418142383527\n",
      "12:28  Starting simulation for distance 0.01007821887203937\n",
      "12:29    Var[r(x,z)] = 0.13083977295941798\n",
      "12:29    E[r(x,z)]   = 1.0635954724988799\n",
      "12:29  Starting simulation for distance 0.05829487421670805\n",
      "12:29    Var[r(x,z)] = 1.5522586013473043\n",
      "12:29    E[r(x,z)]   = 0.7285823457529382\n",
      "12:29  Starting simulation for distance 0.1108688081222958\n",
      "12:30    Var[r(x,z)] = 0.03260875370241791\n",
      "12:30    E[r(x,z)]   = 0.0555166739788146\n",
      "12:30  Starting simulation for distance 0.003958434674722797\n",
      "12:30    Var[r(x,z)] = 0.02390903439629337\n",
      "12:30    E[r(x,z)]   = 0.9947581406552992\n",
      "12:30  Starting simulation for distance 0.7966893460737133\n",
      "12:31    Var[r(x,z)] = 4.521519214132241e-88\n",
      "12:31    E[r(x,z)]   = 3.037695984321646e-45\n",
      "12:31  Starting simulation for distance 0.5225689014384598\n",
      "12:31  Too many steps in simulation. Total rate: 96254.0\n",
      "12:32    Var[r(x,z)] = 7.396440054053134e-93\n",
      "12:32    E[r(x,z)]   = 1.2286670928539779e-47\n",
      "12:32  Starting simulation for distance 0.16473369748768094\n",
      "12:32    Var[r(x,z)] = 0.004472462907164759\n",
      "12:32    E[r(x,z)]   = 0.011444306643728657\n",
      "12:32  Starting simulation for distance 0.23587254248751652\n",
      "12:33    Var[r(x,z)] = 1.5916102852054116e-12\n",
      "12:33    E[r(x,z)]   = 3.1683663001188157e-07\n",
      "12:33  Starting simulation for distance 0.9360137715494958\n",
      "12:34  Too many steps in simulation. Total rate: 98240.0\n",
      "12:34    Var[r(x,z)] = 3.4366654447153914e-171\n",
      "12:34    E[r(x,z)]   = 8.374731209179692e-87\n",
      "12:34  Starting simulation for distance 0.007502936594921592\n",
      "12:35    Var[r(x,z)] = 0.10807004089042778\n",
      "12:35    E[r(x,z)]   = 1.0156448538266516\n",
      "12:35  Starting simulation for distance 0.6874530664041135\n"
     ]
    },
    {
     "name": "stderr",
     "output_type": "stream",
     "text": [
      "12:35  Too many steps in simulation. Total rate: 98452.0\n",
      "12:35    Var[r(x,z)] = 1.1149551619301327e-62\n",
      "12:35    E[r(x,z)]   = 1.5462585606392679e-32\n"
     ]
    }
   ],
   "source": [
    "dthetas = []\n",
    "log_r_xz = []\n",
    "t_xz = []\n",
    "\n",
    "distances = np.exp(np.log(dmin) + (np.log(dmax) - np.log(dmin)) * np.random.rand(n_thetas))\n",
    "r_variances = []\n",
    "r_means = []\n",
    "\n",
    "for i_theta, distance in enumerate(distances):\n",
    "    logging.info('Starting simulation for distance %s', distance)\n",
    "    \n",
    "    dtheta = np.random.rand(4)\n",
    "    dtheta *= distance / np.linalg.norm(dtheta)\n",
    "    theta1 = theta0 + dtheta\n",
    "    \n",
    "    x, this_r_xz = simulator.rvs_ratio(theta0, theta1, theta0, n_samples)\n",
    "    \n",
    "    logging.info('  Var[r(x,z)] = %s', np.var(this_r_xz, dtype=np.float64))\n",
    "    logging.info('  E[r(x,z)]   = %s', np.mean(this_r_xz, dtype=np.float64))\n",
    "    \n",
    "    r_variances.append(np.var(this_r_xz, dtype=np.float64))\n",
    "    r_means.append(np.mean(this_r_xz, dtype=np.float64))\n",
    "\n",
    "r_variances = np.array(r_variances)\n",
    "r_means = np.array(r_means)\n"
   ]
  },
  {
   "cell_type": "markdown",
   "metadata": {},
   "source": [
    "## Plot theta distance vs r variance"
   ]
  },
  {
   "cell_type": "code",
   "execution_count": 24,
   "metadata": {},
   "outputs": [
    {
     "data": {
      "image/png": "[encoded data removed]",
      "text/plain": [
       "<matplotlib.figure.Figure at 0x1819bce710>"
      ]
     },
     "metadata": {},
     "output_type": "display_data"
    }
   ],
   "source": [
    "fig = plt.figure(figsize=(4,4))\n",
    "ax = plt.gca()\n",
    "\n",
    "sc = plt.scatter(distances, r_variances**0.5, s=10.)\n",
    "\n",
    "plt.xlabel(r'$|\\Delta \\theta|$')\n",
    "plt.ylabel(r'$\\sqrt{\\mathrm{Var}\\,[r(x,z)]}$')\n",
    "plt.xlim(0.0008,1.2)\n",
    "#plt.ylim(0.,11.)\n",
    "ax.set_xscale(\"log\", nonposx='clip')\n",
    "#ax.set_yscale(\"log\", nonposy='clip')\n",
    "\n",
    "plt.tight_layout()\n",
    "#plt.savefig('lv_local_model_zoom.pdf')\n",
    "plt.show()"
   ]
  },
  {
   "cell_type": "code",
   "execution_count": 27,
   "metadata": {},
   "outputs": [
    {
     "data": {
      "image/png": "[encoded data removed]",
      "text/plain": [
       "<matplotlib.figure.Figure at 0x1819fe8b38>"
      ]
     },
     "metadata": {},
     "output_type": "display_data"
    }
   ],
   "source": [
    "fig = plt.figure(figsize=(4,4))\n",
    "ax = plt.gca()\n",
    "\n",
    "sc = plt.scatter(distances, r_variances**0.5 / r_means, s=10.)\n",
    "\n",
    "plt.xlabel(r'$|\\Delta \\theta|$')\n",
    "plt.ylabel(r'$\\sqrt{\\mathrm{Var}\\,[r(x,z)]}\\;/\\;\\mathrm{E}\\,[r(x,z)]$')\n",
    "plt.xlim(0.0008,1.2)\n",
    "plt.ylim(0.,7.5)\n",
    "ax.set_xscale(\"log\", nonposx='clip')\n",
    "#ax.set_yscale(\"log\", nonposy='clip')\n",
    "\n",
    "plt.tight_layout()\n",
    "plt.savefig('lv_joint_ratio_variance.pdf')\n",
    "plt.show()"
   ]
  },
  {
   "cell_type": "code",
   "execution_count": null,
   "metadata": {},
   "outputs": [],
   "source": []
  }
 ],
 "metadata": {
  "kernelspec": {
   "display_name": "Python [conda env:higgs_inference]",
   "language": "python",
   "name": "conda-env-higgs_inference-py"
  },
  "language_info": {
   "codemirror_mode": {
    "name": "ipython",
    "version": 3
   },
   "file_extension": ".py",
   "mimetype": "text/x-python",
   "name": "python",
   "nbconvert_exporter": "python",
   "pygments_lexer": "ipython3",
   "version": "3.6.4"
  }
 },
 "nbformat": 4,
 "nbformat_minor": 2
}
