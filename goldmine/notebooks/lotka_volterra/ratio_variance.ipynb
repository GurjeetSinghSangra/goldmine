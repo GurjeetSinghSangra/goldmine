{
 "cells": [
  {
   "cell_type": "markdown",
   "metadata": {},
   "source": [
    "# Lotka-Volterra simulator: joint ratio variance vs theta distance"
   ]
  },
  {
   "cell_type": "code",
   "execution_count": 1,
   "metadata": {},
   "outputs": [],
   "source": [
    "import numpy as np\n",
    "import corner\n",
    "from matplotlib import pyplot as plt\n",
    "%matplotlib inline\n",
    "import logging\n",
    "import matplotlib\n",
    "\n",
    "from goldmine.simulators.lotka_volterra import LotkaVolterra\n",
    "\n",
    "logging.basicConfig(format='%(asctime)s  %(message)s', datefmt='%H:%M')\n",
    "logging.getLogger().setLevel(logging.DEBUG)"
   ]
  },
  {
   "cell_type": "markdown",
   "metadata": {},
   "source": [
    "## Run simulator and collect log r, t"
   ]
  },
  {
   "cell_type": "code",
   "execution_count": 2,
   "metadata": {},
   "outputs": [
    {
     "name": "stdout",
     "output_type": "stream",
     "text": [
      "[-4.60517019 -0.69314718  0.         -4.60517019]\n"
     ]
    }
   ],
   "source": [
    "simulator = LotkaVolterra()\n",
    "theta0 = simulator.theta_defaults(single_theta=True)[0][0]\n",
    "print(theta0)"
   ]
  },
  {
   "cell_type": "code",
   "execution_count": null,
   "metadata": {},
   "outputs": [],
   "source": [
    "n_thetas = 10\n",
    "n_samples = 10"
   ]
  },
  {
   "cell_type": "code",
   "execution_count": null,
   "metadata": {
    "scrolled": true
   },
   "outputs": [
    {
     "name": "stderr",
     "output_type": "stream",
     "text": [
      "10:51  \n",
      "\n",
      "--------------------------------------------------------------------------------\n",
      "\n",
      " distance = 0.010000000000000004: delta theta = [0.00914648 0.00239007 0.00236673 0.00224232]\n",
      "\n",
      "--------------------------------------------------------------------------------\n",
      "\n",
      "10:51  Simulating 10 evolutions for theta = [-4.60517019 -0.69314718  0.         -4.60517019], augmenting with joint ratio between [-4.59602370e+00 -6.90757108e-01  2.36672983e-03 -4.60292787e+00] and [-4.60517019 -0.69314718  0.         -4.60517019] and joint score at  [-4.60517019 -0.69314718  0.         -4.60517019]\n",
      "10:51    Starting sample 1 of 10\n",
      "10:51    Starting sample 2 of 10\n",
      "10:51    Starting sample 3 of 10\n",
      "10:51    Starting sample 4 of 10\n",
      "10:51    Starting sample 5 of 10\n"
     ]
    }
   ],
   "source": [
    "dthetas = []\n",
    "log_r_xz = []\n",
    "t_xz = []\n",
    "\n",
    "distances = np.exp(np.linspace(np.log(0.01), np.log(1.), n_thetas))\n",
    "r_variances = []\n",
    "\n",
    "for i_theta, distance in enumerate(distances):\n",
    "    dtheta = np.random.rand(4)\n",
    "    dtheta *= distance / np.linalg.norm(dtheta)\n",
    "    theta1 = theta0 + dtheta\n",
    "    \n",
    "    logging.info('\\n\\n--------------------------------------------------------------------------------\\n\\n distance = %s: delta theta = %s\\n\\n--------------------------------------------------------------------------------\\n', distance, dtheta)\n",
    "    \n",
    "    x, this_r_xz, this_t_xz = simulator.rvs_ratio_score(theta0, theta1, theta0, theta0, n_samples)\n",
    "    \n",
    "    logging.info('\\n\\nResults: log r = %s, t = %s\\n\\n', np.log(this_r_xz), this_t_xz)\n",
    "    \n",
    "    log_r_xz += list(np.log(this_r_xz))\n",
    "    t_xz += list(this_t_xz)\n",
    "    dthetas += [dtheta] * len(this_r_xz)\n",
    "    \n",
    "    r_variances.append(np.var(this_r_xz))\n",
    "    \n",
    "log_r_xz = np.array(log_r_xz)\n",
    "t_xz = np.array(t_xz)\n",
    "dthetas = np.array(dthetas)\n",
    "\n",
    "r_variances = np.array(r_variances)\n"
   ]
  },
  {
   "cell_type": "markdown",
   "metadata": {},
   "source": [
    "## Plot theta distance vs r variance"
   ]
  },
  {
   "cell_type": "code",
   "execution_count": null,
   "metadata": {},
   "outputs": [],
   "source": [
    "fig = plt.figure(figsize=(4,4))\n",
    "ax = plt.gca()\n",
    "\n",
    "sc = plt.scatter(distances, r_variances, s=10.)\n",
    "\n",
    "plt.xlabel(r'$\\log r$')\n",
    "plt.ylabel(r'$t \\cdot \\Delta \\theta$')\n",
    "#plt.xlim(0.008,1.2)\n",
    "#plt.ylim(0.,1000.)\n",
    "ax.set_xscale(\"log\", nonposx='clip')\n",
    "#ax.set_yscale(\"log\", nonposy='clip')\n",
    "\n",
    "plt.tight_layout()\n",
    "#plt.savefig('lv_local_model_zoom.pdf')\n",
    "plt.show()"
   ]
  },
  {
   "cell_type": "code",
   "execution_count": null,
   "metadata": {},
   "outputs": [],
   "source": []
  }
 ],
 "metadata": {
  "kernelspec": {
   "display_name": "Python [conda env:higgs_inference]",
   "language": "python",
   "name": "conda-env-higgs_inference-py"
  },
  "language_info": {
   "codemirror_mode": {
    "name": "ipython",
    "version": 3
   },
   "file_extension": ".py",
   "mimetype": "text/x-python",
   "name": "python",
   "nbconvert_exporter": "python",
   "pygments_lexer": "ipython3",
   "version": "3.6.4"
  }
 },
 "nbformat": 4,
 "nbformat_minor": 2
}
