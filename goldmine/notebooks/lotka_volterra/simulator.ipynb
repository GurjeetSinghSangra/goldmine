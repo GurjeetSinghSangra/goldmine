{
 "cells": [
  {
   "cell_type": "markdown",
   "metadata": {},
   "source": [
    "# Test Lotka-Voltera simulator"
   ]
  },
  {
   "cell_type": "code",
   "execution_count": 1,
   "metadata": {},
   "outputs": [],
   "source": [
    "import numpy as np\n",
    "import corner\n",
    "from matplotlib import pyplot as plt\n",
    "%matplotlib inline\n",
    "import logging\n",
    "\n",
    "from goldmine.simulators.lotka_volterra import LotkaVolterra\n",
    "\n",
    "logging.basicConfig(format='%(asctime)s  %(message)s', datefmt='%H:%M')\n",
    "logging.getLogger().setLevel(logging.DEBUG)"
   ]
  },
  {
   "cell_type": "markdown",
   "metadata": {},
   "source": [
    "## Run simulation"
   ]
  },
  {
   "cell_type": "code",
   "execution_count": 2,
   "metadata": {},
   "outputs": [],
   "source": [
    "simulator = LotkaVolterra()"
   ]
  },
  {
   "cell_type": "code",
   "execution_count": 3,
   "metadata": {},
   "outputs": [
    {
     "name": "stdout",
     "output_type": "stream",
     "text": [
      "[-4.60517019 -0.69314718  0.         -4.60517019]\n",
      "[-4.19970508 -0.35667494  0.         -4.60517019]\n"
     ]
    }
   ],
   "source": [
    "theta0 = simulator.theta_defaults(single_theta=True)[0][0]\n",
    "print(theta0)\n",
    "theta1 = np.log(np.array([0.015, 0.7, 1., 0.01]))\n",
    "print(theta1)"
   ]
  },
  {
   "cell_type": "code",
   "execution_count": null,
   "metadata": {},
   "outputs": [
    {
     "name": "stderr",
     "output_type": "stream",
     "text": [
      "17:44  Simulating 100 evolutions for theta = [-4.60517019 -0.69314718  0.         -4.60517019], augmenting with joint ratio between [-4.60517019 -0.69314718  0.         -4.60517019] and [-4.19970508 -0.35667494  0.         -4.60517019] and joint score at  [-4.60517019 -0.69314718  0.         -4.60517019]\n",
      "17:44    Starting sample 1 of 100\n",
      "17:44    Starting sample 2 of 100\n",
      "17:44    Starting sample 3 of 100\n",
      "17:44    Starting sample 4 of 100\n",
      "17:44    Starting sample 5 of 100\n",
      "17:44    Starting sample 6 of 100\n",
      "17:44    Starting sample 7 of 100\n",
      "17:44    Starting sample 8 of 100\n",
      "17:44    Starting sample 9 of 100\n",
      "17:45    Starting sample 10 of 100\n",
      "17:45    Starting sample 11 of 100\n",
      "17:45    Starting sample 12 of 100\n",
      "17:45    Starting sample 13 of 100\n",
      "17:45    Starting sample 14 of 100\n",
      "17:45    Starting sample 15 of 100\n",
      "17:45    Starting sample 16 of 100\n",
      "17:45    Starting sample 17 of 100\n",
      "17:45    Starting sample 18 of 100\n",
      "17:45    Starting sample 19 of 100\n",
      "17:45    Starting sample 20 of 100\n",
      "17:45    Starting sample 21 of 100\n",
      "17:45    Starting sample 22 of 100\n",
      "17:45    Starting sample 23 of 100\n",
      "17:46    Starting sample 24 of 100\n",
      "17:46    Starting sample 25 of 100\n",
      "17:46    Starting sample 26 of 100\n",
      "17:46    Starting sample 27 of 100\n",
      "17:46    Starting sample 28 of 100\n",
      "17:46    Starting sample 29 of 100\n",
      "17:46    Starting sample 30 of 100\n",
      "17:46    Starting sample 31 of 100\n",
      "17:46    Starting sample 32 of 100\n",
      "17:46    Starting sample 33 of 100\n",
      "17:46    Starting sample 34 of 100\n",
      "17:46    Starting sample 35 of 100\n",
      "17:47    Starting sample 36 of 100\n",
      "17:47    Starting sample 37 of 100\n"
     ]
    }
   ],
   "source": [
    "x0, log_r_xz0, t_xz0, histories0 = simulator.rvs_ratio_score(theta0, theta0, theta1, theta0, 100, return_histories=True)\n",
    "x1, log_r_xz1, histories1 = simulator.rvs_ratio(theta0, theta0, theta1, 100, return_histories=True)\n",
    "x2, t_xz2, histories2 = simulator.rvs_score(theta0, theta0, 100, return_histories=True)\n"
   ]
  },
  {
   "cell_type": "markdown",
   "metadata": {},
   "source": [
    "## Plot predator and prey evolutions"
   ]
  },
  {
   "cell_type": "code",
   "execution_count": null,
   "metadata": {},
   "outputs": [],
   "source": [
    "t = np.linspace(0., 30., histories0[0].shape[0])\n",
    "                \n",
    "mean_histories0 = np.median(np.array(histories0), axis=0)\n",
    "mean_histories1 = np.median(np.array(histories1), axis=0)"
   ]
  },
  {
   "cell_type": "code",
   "execution_count": null,
   "metadata": {},
   "outputs": [],
   "source": [
    "fig = plt.figure(figsize=(8,8))\n",
    "\n",
    "for i in range(4):\n",
    "\n",
    "    ax = plt.subplot(2,2,i+1)\n",
    "\n",
    "    plt.plot(t, histories0[i][:,0], c='C3', lw=1.5, ls='-', label='predator')\n",
    "    plt.plot(t, histories0[i][:,1], c='C0', lw=1.5, ls='-', label='prey')\n",
    "\n",
    "    plt.legend()\n",
    "\n",
    "    plt.xlabel(r'$t$')\n",
    "    plt.ylabel(r'$x, y$')\n",
    "    plt.ylim(0,300)\n",
    "\n",
    "plt.tight_layout()\n",
    "plt.show()"
   ]
  },
  {
   "cell_type": "code",
   "execution_count": null,
   "metadata": {},
   "outputs": [],
   "source": [
    "fig = plt.figure(figsize=(8,4))\n",
    "\n",
    "for panel, (histories, mean_history) in enumerate(zip([histories0, histories1],\n",
    "                                                    [mean_histories0, mean_histories1])):\n",
    "\n",
    "    ax = plt.subplot(1,2,panel+1)\n",
    "\n",
    "    for history in histories[:20]:\n",
    "        plt.plot(t, history[:,0], c='C3', alpha=0.5, lw=0.5, ls='-')\n",
    "        plt.plot(t, history[:,1], c='C0', alpha=0.5, lw=0.5, ls='-')\n",
    "    plt.plot(t, mean_history[:,0], c='C3', lw=2., ls='-', label='predator')\n",
    "    plt.plot(t, mean_history[:,1], c='C0', lw=2., ls='-', label='prey')\n",
    "\n",
    "    plt.legend()\n",
    "\n",
    "    plt.xlabel(r'$t$')\n",
    "    plt.ylabel(r'$x, y$')\n",
    "    plt.ylim(0,300)\n",
    "\n",
    "plt.tight_layout()\n",
    "plt.show()"
   ]
  },
  {
   "cell_type": "markdown",
   "metadata": {},
   "source": [
    "## Summary statistics"
   ]
  },
  {
   "cell_type": "code",
   "execution_count": null,
   "metadata": {},
   "outputs": [],
   "source": [
    "import corner\n",
    "\n",
    "labels = [r'mean x', r'mean y', r'var x', r'var y', r'ac x 1', r'ac x 2', r'ac y 1', r'ac y 2', 'cc']\n",
    "ranges = [(20.,120.), (0.,60.), (5.,10.), (5.,10.), (0.7,1.1), (0.7,1.1), (0.7,1.1), (0.7,1.1), (-.5,.8)]\n",
    "\n",
    "fig = corner.corner(x0, color='C0', labels=labels, range=ranges)\n",
    "_ = corner.corner(x1, color='C1', labels=labels, range=ranges, fig=fig)"
   ]
  },
  {
   "cell_type": "code",
   "execution_count": null,
   "metadata": {},
   "outputs": [],
   "source": []
  }
 ],
 "metadata": {
  "kernelspec": {
   "display_name": "Python [conda env:higgs_inference]",
   "language": "python",
   "name": "conda-env-higgs_inference-py"
  },
  "language_info": {
   "codemirror_mode": {
    "name": "ipython",
    "version": 3
   },
   "file_extension": ".py",
   "mimetype": "text/x-python",
   "name": "python",
   "nbconvert_exporter": "python",
   "pygments_lexer": "ipython3",
   "version": "3.6.4"
  }
 },
 "nbformat": 4,
 "nbformat_minor": 2
}
