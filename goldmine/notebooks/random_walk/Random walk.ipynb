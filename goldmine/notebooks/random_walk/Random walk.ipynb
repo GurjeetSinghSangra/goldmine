{
 "cells": [
  {
   "cell_type": "markdown",
   "metadata": {},
   "source": [
    "# Random walk"
   ]
  },
  {
   "cell_type": "code",
   "execution_count": 1,
   "metadata": {},
   "outputs": [],
   "source": [
    "import sys\n",
    "import numpy as np\n",
    "import corner\n",
    "import matplotlib\n",
    "from matplotlib import pyplot as plt\n",
    "%matplotlib inline\n",
    "import logging\n",
    "\n",
    "from goldmine.simulators.random_walk_checkpointed import CheckpointedRandomWalk\n",
    "from goldmine.inference.scandal_checkpointed import CheckpointedSCANDALInference"
   ]
  },
  {
   "cell_type": "code",
   "execution_count": 2,
   "metadata": {},
   "outputs": [],
   "source": [
    "logging.basicConfig(format='%(asctime)s  %(message)s', datefmt='%H:%M')\n",
    "logging.getLogger().setLevel(logging.DEBUG)"
   ]
  },
  {
   "cell_type": "code",
   "execution_count": 3,
   "metadata": {},
   "outputs": [],
   "source": [
    "def ccolor(val, vmin, vmax, cmap='viridis'):\n",
    "    cmap = matplotlib.cm.get_cmap(cmap)\n",
    "    return cmap((val - vmin) / (vmax - vmin)).reshape(-1,)"
   ]
  },
  {
   "cell_type": "markdown",
   "metadata": {},
   "source": [
    "## Setup"
   ]
  },
  {
   "cell_type": "code",
   "execution_count": 4,
   "metadata": {},
   "outputs": [],
   "source": [
    "checkpoints = np.linspace(0.,1.,11)\n",
    "xmin, xmax = -30, 50"
   ]
  },
  {
   "cell_type": "markdown",
   "metadata": {},
   "source": [
    "## Test data"
   ]
  },
  {
   "cell_type": "code",
   "execution_count": 5,
   "metadata": {},
   "outputs": [],
   "source": [
    "n_sim = 2\n",
    "n_plot = 100\n",
    "\n",
    "theta_test = 110."
   ]
  },
  {
   "cell_type": "code",
   "execution_count": 6,
   "metadata": {},
   "outputs": [
    {
     "name": "stderr",
     "output_type": "stream",
     "text": [
      "13:10  Simulating 2 evolutions for theta = [110.0], augmenting with joint score\n",
      "13:10    Starting sample 1 of 2\n",
      "/Users/johannbrehmer/anaconda3/envs/higgs_inference/lib/python3.6/site-packages/autograd/tracer.py:14: UserWarning: Output seems independent of input.\n",
      "  warnings.warn(\"Output seems independent of input.\")\n",
      "13:10  [[ 0.        ]\n",
      " [ 0.06300775]\n",
      " [-0.01945779]\n",
      " [-0.00974787]\n",
      " [ 0.01076535]\n",
      " [ 0.03628067]\n",
      " [ 0.00500672]\n",
      " [ 0.03661721]\n",
      " [-0.04108347]\n",
      " [-0.02027222]\n",
      " [ 0.03668259]]\n",
      "13:10    Starting sample 2 of 2\n",
      "13:10  [[ 0.        ]\n",
      " [-0.03426974]\n",
      " [ 0.03676323]\n",
      " [ 0.01854065]\n",
      " [-0.0027012 ]\n",
      " [ 0.04356567]\n",
      " [-0.01664425]\n",
      " [ 0.01605852]\n",
      " [-0.04580767]\n",
      " [-0.02510138]\n",
      " [-0.01065675]]\n"
     ]
    }
   ],
   "source": [
    "sim = CheckpointedRandomWalk()\n",
    "x_test, t_xz_test, z_checkpoints_test, t_xz_checkpoints_test, z_test = sim.rvs_score([theta_test], [theta_test], n_sim, return_histories=True)\n"
   ]
  },
  {
   "cell_type": "markdown",
   "metadata": {},
   "source": [
    "## Load and evaluate model"
   ]
  },
  {
   "cell_type": "code",
   "execution_count": 7,
   "metadata": {},
   "outputs": [
    {
     "name": "stderr",
     "output_type": "stream",
     "text": [
      "13:10  Loaded checkpointed SCANDAL from file:\n",
      "13:10    Filename:        ../../data/models/randomwalk/scandal_checkpoint/model\n",
      "13:10    Checkpoint score estimator:\n",
      "13:10      Hidden layers: (20, 20)\n",
      "13:10      Activation:    <built-in method relu of type object at 0xb15fe3870>\n",
      "13:10      Parameters:    1\n",
      "13:10      Latents:       1\n",
      "13:10    Global flow:\n",
      "13:10      Parameters:    1\n",
      "13:10      Observables:   1\n",
      "13:10      Components:    1\n",
      "13:10      MADEs:         5\n",
      "13:10      Hidden layers: (100,)\n",
      "13:10      Activation:    tanh\n",
      "13:10      Batch norm:    False\n"
     ]
    }
   ],
   "source": [
    "inf = CheckpointedSCANDALInference(\n",
    "    filename = \"../../data/models/randomwalk/scandal_checkpoint/model\"\n",
    ")"
   ]
  },
  {
   "cell_type": "code",
   "execution_count": 8,
   "metadata": {},
   "outputs": [
    {
     "name": "stderr",
     "output_type": "stream",
     "text": [
      "13:10  theta: tensor([[110.],\n",
      "        [110.]])\n",
      "13:10  z_checkpoints: tensor([[[ 0.],\n",
      "         [ 4.],\n",
      "         [ 6.],\n",
      "         [ 5.],\n",
      "         [ 4.],\n",
      "         [10.],\n",
      "         [12.],\n",
      "         [14.],\n",
      "         [ 9.],\n",
      "         [ 8.],\n",
      "         [10.]],\n",
      "\n",
      "        [[ 0.],\n",
      "         [ 1.],\n",
      "         [ 1.],\n",
      "         [ 7.],\n",
      "         [12.],\n",
      "         [15.],\n",
      "         [12.],\n",
      "         [14.],\n",
      "         [13.],\n",
      "         [11.],\n",
      "         [ 9.]]])\n",
      "13:10  z_initial: tensor([[ 0.],\n",
      "        [ 4.],\n",
      "        [ 6.],\n",
      "        [ 5.],\n",
      "        [ 4.],\n",
      "        [10.],\n",
      "        [12.],\n",
      "        [14.],\n",
      "        [ 9.],\n",
      "        [ 8.],\n",
      "        [ 0.],\n",
      "        [ 1.],\n",
      "        [ 1.],\n",
      "        [ 7.],\n",
      "        [12.],\n",
      "        [15.],\n",
      "        [12.],\n",
      "        [14.],\n",
      "        [13.],\n",
      "        [11.]])\n",
      "13:10  z_final: tensor([[ 4.],\n",
      "        [ 6.],\n",
      "        [ 5.],\n",
      "        [ 4.],\n",
      "        [10.],\n",
      "        [12.],\n",
      "        [14.],\n",
      "        [ 9.],\n",
      "        [ 8.],\n",
      "        [10.],\n",
      "        [ 1.],\n",
      "        [ 1.],\n",
      "        [ 7.],\n",
      "        [12.],\n",
      "        [15.],\n",
      "        [12.],\n",
      "        [14.],\n",
      "        [13.],\n",
      "        [11.],\n",
      "        [ 9.]])\n",
      "13:10  theta_step: tensor([[110.],\n",
      "        [110.],\n",
      "        [110.],\n",
      "        [110.],\n",
      "        [110.],\n",
      "        [110.],\n",
      "        [110.],\n",
      "        [110.],\n",
      "        [110.],\n",
      "        [110.],\n",
      "        [110.],\n",
      "        [110.],\n",
      "        [110.],\n",
      "        [110.],\n",
      "        [110.],\n",
      "        [110.],\n",
      "        [110.],\n",
      "        [110.],\n",
      "        [110.],\n",
      "        [110.]])\n",
      "13:10  Input to step network: tensor([[  0., 106.],\n",
      "        [  4., 104.],\n",
      "        [  6., 105.],\n",
      "        [  5., 106.],\n",
      "        [  4., 100.],\n",
      "        [ 10.,  98.],\n",
      "        [ 12.,  96.],\n",
      "        [ 14., 101.],\n",
      "        [  9., 102.],\n",
      "        [  8., 100.],\n",
      "        [  0., 109.],\n",
      "        [  1., 109.],\n",
      "        [  1., 103.],\n",
      "        [  7.,  98.],\n",
      "        [ 12.,  95.],\n",
      "        [ 15.,  98.],\n",
      "        [ 12.,  96.],\n",
      "        [ 14.,  97.],\n",
      "        [ 13.,  99.],\n",
      "        [ 11., 101.]])\n",
      "13:10  that_xv_checkpoints (raw): tensor([[-0.0061],\n",
      "        [-0.0167],\n",
      "        [-0.0140],\n",
      "        [-0.0148],\n",
      "        [-0.0180],\n",
      "        [-0.0117],\n",
      "        [-0.0101],\n",
      "        [-0.0060],\n",
      "        [-0.0115],\n",
      "        [-0.0134],\n",
      "        [-0.0060],\n",
      "        [ 0.0028],\n",
      "        [-0.0013],\n",
      "        [-0.0152],\n",
      "        [-0.0104],\n",
      "        [-0.0059],\n",
      "        [-0.0101],\n",
      "        [-0.0074],\n",
      "        [-0.0079],\n",
      "        [-0.0095]], grad_fn=<ThAddmmBackward>)\n",
      "13:10  that_xv_checkpoints (processes): tensor([[[-0.0061],\n",
      "         [-0.0167],\n",
      "         [-0.0140],\n",
      "         [-0.0148],\n",
      "         [-0.0180],\n",
      "         [-0.0117],\n",
      "         [-0.0101],\n",
      "         [-0.0060],\n",
      "         [-0.0115],\n",
      "         [-0.0134]],\n",
      "\n",
      "        [[-0.0060],\n",
      "         [ 0.0028],\n",
      "         [-0.0013],\n",
      "         [-0.0152],\n",
      "         [-0.0104],\n",
      "         [-0.0059],\n",
      "         [-0.0101],\n",
      "         [-0.0074],\n",
      "         [-0.0079],\n",
      "         [-0.0095]]], grad_fn=<ViewBackward>)\n"
     ]
    }
   ],
   "source": [
    "t_x_test = inf.predict_score(\n",
    "    theta=theta_test * np.ones_like(t_xz_test),\n",
    "    x=x_test\n",
    ")\n",
    "t_xv_checkpoints_test = inf.predict_checkpoint_scores(\n",
    "    theta=theta_test * np.ones_like(t_xz_test),\n",
    "    z_checkpoints=z_checkpoints_test\n",
    ")"
   ]
  },
  {
   "cell_type": "markdown",
   "metadata": {},
   "source": [
    "## Plot scores"
   ]
  },
  {
   "cell_type": "code",
   "execution_count": 9,
   "metadata": {},
   "outputs": [
    {
     "name": "stderr",
     "output_type": "stream",
     "text": [
      "13:10  locator: <matplotlib.colorbar._ColorbarAutoLocator object at 0xb189792e8>\n",
      "13:10  Using auto colorbar locator on colorbar\n",
      "13:10  locator: <matplotlib.colorbar._ColorbarAutoLocator object at 0xb189792e8>\n",
      "13:10  Setting pcolormesh\n",
      "13:10  update_title_pos\n",
      "13:10  findfont: Matching :family=sans-serif:style=normal:variant=normal:weight=normal:stretch=normal:size=10.0 to DejaVu Sans ('/Users/johannbrehmer/anaconda3/envs/higgs_inference/lib/python3.6/site-packages/matplotlib/mpl-data/fonts/ttf/DejaVuSans.ttf') with score of 0.050000.\n",
      "13:10  Assigning font /b'F1' = '/Users/johannbrehmer/anaconda3/envs/higgs_inference/lib/python3.6/site-packages/matplotlib/mpl-data/fonts/ttf/DejaVuSans.ttf'\n",
      "13:10  update_title_pos\n",
      "13:10  findfont: Matching :family=STIXGeneral:style=normal:variant=normal:weight=normal:stretch=normal:size=10.0 to STIXGeneral ('/Users/johannbrehmer/anaconda3/envs/higgs_inference/lib/python3.6/site-packages/matplotlib/mpl-data/fonts/ttf/STIXGeneral.ttf') with score of 0.050000.\n",
      "13:10  findfont: Matching :family=STIXGeneral:style=italic:variant=normal:weight=normal:stretch=normal:size=10.0 to STIXGeneral ('/Users/johannbrehmer/anaconda3/envs/higgs_inference/lib/python3.6/site-packages/matplotlib/mpl-data/fonts/ttf/STIXGeneralItalic.ttf') with score of 0.050000.\n",
      "13:10  findfont: Matching :family=STIXGeneral:style=normal:variant=normal:weight=bold:stretch=normal:size=10.0 to STIXGeneral ('/Users/johannbrehmer/anaconda3/envs/higgs_inference/lib/python3.6/site-packages/matplotlib/mpl-data/fonts/ttf/STIXGeneralBol.ttf') with score of 0.000000.\n",
      "13:10  findfont: Matching :family=STIXNonUnicode:style=normal:variant=normal:weight=normal:stretch=normal:size=10.0 to STIXNonUnicode ('/Users/johannbrehmer/anaconda3/envs/higgs_inference/lib/python3.6/site-packages/matplotlib/mpl-data/fonts/ttf/STIXNonUni.ttf') with score of 0.050000.\n",
      "13:10  findfont: Matching :family=STIXNonUnicode:style=italic:variant=normal:weight=normal:stretch=normal:size=10.0 to STIXNonUnicode ('/Users/johannbrehmer/anaconda3/envs/higgs_inference/lib/python3.6/site-packages/matplotlib/mpl-data/fonts/ttf/STIXNonUniIta.ttf') with score of 0.050000.\n",
      "13:10  findfont: Matching :family=STIXNonUnicode:style=normal:variant=normal:weight=bold:stretch=normal:size=10.0 to STIXNonUnicode ('/Users/johannbrehmer/anaconda3/envs/higgs_inference/lib/python3.6/site-packages/matplotlib/mpl-data/fonts/ttf/STIXNonUniBol.ttf') with score of 0.000000.\n",
      "13:10  findfont: Matching :family=STIXSizeOneSym:style=normal:variant=normal:weight=normal:stretch=normal:size=10.0 to STIXSizeOneSym ('/Users/johannbrehmer/anaconda3/envs/higgs_inference/lib/python3.6/site-packages/matplotlib/mpl-data/fonts/ttf/STIXSizOneSymReg.ttf') with score of 0.050000.\n",
      "13:10  findfont: Matching :family=STIXSizeTwoSym:style=normal:variant=normal:weight=normal:stretch=normal:size=10.0 to STIXSizeTwoSym ('/Users/johannbrehmer/anaconda3/envs/higgs_inference/lib/python3.6/site-packages/matplotlib/mpl-data/fonts/ttf/STIXSizTwoSymReg.ttf') with score of 0.050000.\n",
      "13:10  findfont: Matching :family=STIXSizeThreeSym:style=normal:variant=normal:weight=normal:stretch=normal:size=10.0 to STIXSizeThreeSym ('/Users/johannbrehmer/anaconda3/envs/higgs_inference/lib/python3.6/site-packages/matplotlib/mpl-data/fonts/ttf/STIXSizThreeSymReg.ttf') with score of 0.050000.\n",
      "13:10  findfont: Matching :family=STIXSizeFourSym:style=normal:variant=normal:weight=normal:stretch=normal:size=10.0 to STIXSizeFourSym ('/Users/johannbrehmer/anaconda3/envs/higgs_inference/lib/python3.6/site-packages/matplotlib/mpl-data/fonts/ttf/STIXSizFourSymReg.ttf') with score of 0.050000.\n",
      "13:10  findfont: Matching :family=STIXSizeFiveSym:style=normal:variant=normal:weight=normal:stretch=normal:size=10.0 to STIXSizeFiveSym ('/Users/johannbrehmer/anaconda3/envs/higgs_inference/lib/python3.6/site-packages/matplotlib/mpl-data/fonts/ttf/STIXSizFiveSymReg.ttf') with score of 0.050000.\n",
      "13:10  findfont: Matching :family=cmsy10:style=normal:variant=normal:weight=normal:stretch=normal:size=10.0 to cmsy10 ('/Users/johannbrehmer/anaconda3/envs/higgs_inference/lib/python3.6/site-packages/matplotlib/mpl-data/fonts/ttf/cmsy10.ttf') with score of 0.050000.\n",
      "13:10  findfont: Matching :family=cmr10:style=normal:variant=normal:weight=normal:stretch=normal:size=10.0 to cmr10 ('/Users/johannbrehmer/anaconda3/envs/higgs_inference/lib/python3.6/site-packages/matplotlib/mpl-data/fonts/ttf/cmr10.ttf') with score of 0.050000.\n",
      "13:10  findfont: Matching :family=cmtt10:style=normal:variant=normal:weight=normal:stretch=normal:size=10.0 to cmtt10 ('/Users/johannbrehmer/anaconda3/envs/higgs_inference/lib/python3.6/site-packages/matplotlib/mpl-data/fonts/ttf/cmtt10.ttf') with score of 0.050000.\n",
      "13:10  findfont: Matching :family=cmmi10:style=normal:variant=normal:weight=normal:stretch=normal:size=10.0 to cmmi10 ('/Users/johannbrehmer/anaconda3/envs/higgs_inference/lib/python3.6/site-packages/matplotlib/mpl-data/fonts/ttf/cmmi10.ttf') with score of 0.050000.\n",
      "13:10  findfont: Matching :family=cmb10:style=normal:variant=normal:weight=normal:stretch=normal:size=10.0 to cmb10 ('/Users/johannbrehmer/anaconda3/envs/higgs_inference/lib/python3.6/site-packages/matplotlib/mpl-data/fonts/ttf/cmb10.ttf') with score of 0.050000.\n",
      "13:10  findfont: Matching :family=cmss10:style=normal:variant=normal:weight=normal:stretch=normal:size=10.0 to cmss10 ('/Users/johannbrehmer/anaconda3/envs/higgs_inference/lib/python3.6/site-packages/matplotlib/mpl-data/fonts/ttf/cmss10.ttf') with score of 0.050000.\n",
      "13:10  findfont: Matching :family=cmex10:style=normal:variant=normal:weight=normal:stretch=normal:size=10.0 to cmex10 ('/Users/johannbrehmer/anaconda3/envs/higgs_inference/lib/python3.6/site-packages/matplotlib/mpl-data/fonts/ttf/cmex10.ttf') with score of 0.050000.\n",
      "13:10  findfont: Matching :family=DejaVu Sans:style=normal:variant=normal:weight=normal:stretch=normal:size=10.0 to DejaVu Sans ('/Users/johannbrehmer/anaconda3/envs/higgs_inference/lib/python3.6/site-packages/matplotlib/mpl-data/fonts/ttf/DejaVuSans.ttf') with score of 0.050000.\n",
      "13:10  findfont: Matching :family=DejaVu Sans:style=italic:variant=normal:weight=normal:stretch=normal:size=10.0 to DejaVu Sans ('/Users/johannbrehmer/anaconda3/envs/higgs_inference/lib/python3.6/site-packages/matplotlib/mpl-data/fonts/ttf/DejaVuSans-Oblique.ttf') with score of 0.150000.\n",
      "13:10  findfont: Matching :family=DejaVu Sans:style=normal:variant=normal:weight=bold:stretch=normal:size=10.0 to DejaVu Sans ('/Users/johannbrehmer/anaconda3/envs/higgs_inference/lib/python3.6/site-packages/matplotlib/mpl-data/fonts/ttf/DejaVuSans-Bold.ttf') with score of 0.000000.\n",
      "13:10  findfont: Matching :family=DejaVu Sans Mono:style=normal:variant=normal:weight=normal:stretch=normal:size=10.0 to DejaVu Sans Mono ('/Users/johannbrehmer/anaconda3/envs/higgs_inference/lib/python3.6/site-packages/matplotlib/mpl-data/fonts/ttf/DejaVuSansMono.ttf') with score of 0.050000.\n",
      "13:10  findfont: Matching :family=DejaVu Sans Display:style=normal:variant=normal:weight=normal:stretch=normal:size=10.0 to DejaVu Sans Display ('/Users/johannbrehmer/anaconda3/envs/higgs_inference/lib/python3.6/site-packages/matplotlib/mpl-data/fonts/ttf/DejaVuSansDisplay.ttf') with score of 0.050000.\n",
      "13:10  Assigning font /b'F2' = '/Users/johannbrehmer/anaconda3/envs/higgs_inference/lib/python3.6/site-packages/matplotlib/mpl-data/fonts/ttf/DejaVuSans-Oblique.ttf'\n",
      "13:10  Embedding font /Users/johannbrehmer/anaconda3/envs/higgs_inference/lib/python3.6/site-packages/matplotlib/mpl-data/fonts/ttf/DejaVuSans-Oblique.ttf.\n",
      "13:10  Writing TrueType font.\n",
      "13:10  Embedding font /Users/johannbrehmer/anaconda3/envs/higgs_inference/lib/python3.6/site-packages/matplotlib/mpl-data/fonts/ttf/DejaVuSans.ttf.\n",
      "13:10  Writing TrueType font.\n",
      "13:10  update_title_pos\n",
      "13:10  update_title_pos\n",
      "13:10  update_title_pos\n",
      "13:10  update_title_pos\n",
      "13:10  update_title_pos\n",
      "13:10  update_title_pos\n",
      "13:10  update_title_pos\n",
      "13:10  update_title_pos\n",
      "13:10  update_title_pos\n",
      "13:10  update_title_pos\n"
     ]
    },
    {
     "data": {
      "image/png": "[encoded data removed]",
      "text/plain": [
       "<Figure size 720x360 with 2 Axes>"
      ]
     },
     "metadata": {
      "needs_background": "light"
     },
     "output_type": "display_data"
    }
   ],
   "source": [
    "vmax = 0.08\n",
    "\n",
    "fig = plt.figure(figsize=(10,5))\n",
    "ax0 = fig.add_axes([0.1, 0.1, 0.75, 0.85])\n",
    "\n",
    "# Checkpoints\n",
    "for t_checkpoint in checkpoints:\n",
    "    plt.plot(\n",
    "        [t_checkpoint, t_checkpoint], [xmin, xmax],\n",
    "        ls='-',\n",
    "        c='0.65',\n",
    "        lw=1.5\n",
    "    )\n",
    "    \n",
    "# Joint scores for theta0 trajectories\n",
    "for z, z_cp, t_xz in zip(z_test[:n_plot], z_checkpoints_test[:n_plot], t_xz_checkpoints_test[:n_plot]):\n",
    "    for i in range(len(checkpoints) - 1):\n",
    "        t = np.array(z)[:,0]\n",
    "        x = np.array(z)[:,1]\n",
    "        \n",
    "        tmin, tmax = checkpoints[i], checkpoints[i+1]\n",
    "        t_ = t[(t >= tmin) & (t < tmax)]\n",
    "        x_ = x[(t >= tmin) & (t < tmax)]\n",
    "        \n",
    "        t_ = np.hstack([[checkpoints[i]], t_, [checkpoints[i+1]]])\n",
    "        x_ = np.hstack([z_cp[i], x_, z_cp[i+1]])\n",
    "        \n",
    "        plt.plot(\n",
    "            t_, x_,\n",
    "            c=ccolor(t_xz[i+1], -vmax, vmax, 'PRGn'),\n",
    "            ls='-', lw=1., alpha=1.\n",
    "        )\n",
    "    \n",
    "plt.xlim(-0.02,1.02)\n",
    "plt.ylim(xmin, xmax)\n",
    "\n",
    "plt.xlabel('t')\n",
    "plt.ylabel('x')\n",
    "\n",
    "# Color bar\n",
    "ax1 = fig.add_axes([0.87, 0.1, 0.03, 0.85])\n",
    "cb = matplotlib.colorbar.ColorbarBase(\n",
    "    ax1, cmap=matplotlib.cm.get_cmap(\"PRGn\"),\n",
    "    norm=matplotlib.colors.Normalize(vmin=-vmax, vmax=vmax),\n",
    "    orientation='vertical'\n",
    ")\n",
    "cb.set_label(r'$t(z_{n+1}, z | z_n, \\theta)$')\n",
    "    \n",
    "plt.savefig('random_walk_joint_score.pdf')\n",
    "plt.show()"
   ]
  },
  {
   "cell_type": "markdown",
   "metadata": {},
   "source": [
    "## Plot estimated checkpoint scores"
   ]
  },
  {
   "cell_type": "code",
   "execution_count": 10,
   "metadata": {},
   "outputs": [
    {
     "name": "stderr",
     "output_type": "stream",
     "text": [
      "13:10  locator: <matplotlib.colorbar._ColorbarAutoLocator object at 0xb18c734a8>\n",
      "13:10  Using auto colorbar locator on colorbar\n",
      "13:10  locator: <matplotlib.colorbar._ColorbarAutoLocator object at 0xb18c734a8>\n",
      "13:10  Setting pcolormesh\n",
      "13:10  update_title_pos\n",
      "13:10  Assigning font /b'F1' = '/Users/johannbrehmer/anaconda3/envs/higgs_inference/lib/python3.6/site-packages/matplotlib/mpl-data/fonts/ttf/DejaVuSans.ttf'\n",
      "13:10  update_title_pos\n",
      "13:10  Assigning font /b'F2' = '/Users/johannbrehmer/anaconda3/envs/higgs_inference/lib/python3.6/site-packages/matplotlib/mpl-data/fonts/ttf/DejaVuSans-Oblique.ttf'\n",
      "13:10  Embedding font /Users/johannbrehmer/anaconda3/envs/higgs_inference/lib/python3.6/site-packages/matplotlib/mpl-data/fonts/ttf/DejaVuSans-Oblique.ttf.\n",
      "13:10  Writing TrueType font.\n",
      "13:10  Embedding font /Users/johannbrehmer/anaconda3/envs/higgs_inference/lib/python3.6/site-packages/matplotlib/mpl-data/fonts/ttf/DejaVuSans.ttf.\n",
      "13:10  Writing TrueType font.\n",
      "13:10  update_title_pos\n",
      "13:10  update_title_pos\n",
      "13:10  update_title_pos\n",
      "13:10  update_title_pos\n",
      "13:10  update_title_pos\n",
      "13:10  update_title_pos\n",
      "13:10  update_title_pos\n",
      "13:10  update_title_pos\n",
      "13:10  update_title_pos\n",
      "13:10  update_title_pos\n"
     ]
    },
    {
     "data": {
      "image/png": "[encoded data removed]",
      "text/plain": [
       "<Figure size 720x360 with 2 Axes>"
      ]
     },
     "metadata": {
      "needs_background": "light"
     },
     "output_type": "display_data"
    }
   ],
   "source": [
    "vmax = 0.04\n",
    "\n",
    "fig = plt.figure(figsize=(10,5))\n",
    "ax0 = fig.add_axes([0.1, 0.1, 0.75, 0.85])\n",
    "\n",
    "# Checkpoints\n",
    "for t_checkpoint in checkpoints:\n",
    "    plt.plot(\n",
    "        [t_checkpoint, t_checkpoint], [xmin, xmax],\n",
    "        ls='-',\n",
    "        c='0.65',\n",
    "        lw=1.5\n",
    "    )\n",
    "    \n",
    "# Joint scores for theta0 trajectories\n",
    "for z, t_xz in zip(z_checkpoints_test[:n_plot], t_xv_checkpoints_test[:n_plot]):\n",
    "    for i in range(len(checkpoints) - 1):\n",
    "        plt.plot(\n",
    "            [checkpoints[i], checkpoints[i+1]], [z[i,0], z[i+1,0]],\n",
    "            c=ccolor(t_xz[i], -vmax, vmax, 'PRGn'),\n",
    "            ls='-', lw=1., alpha=1.\n",
    "        )\n",
    "    \n",
    "plt.xlim(-0.02,1.02)\n",
    "plt.ylim(xmin, xmax)\n",
    "\n",
    "plt.xlabel('t')\n",
    "plt.ylabel('x')\n",
    "\n",
    "# Color bar\n",
    "ax1 = fig.add_axes([0.87, 0.1, 0.03, 0.85])\n",
    "cb = matplotlib.colorbar.ColorbarBase(\n",
    "    ax1, cmap=matplotlib.cm.get_cmap(\"PRGn\"),\n",
    "    norm=matplotlib.colors.Normalize(vmin=-vmax, vmax=vmax),\n",
    "    orientation='vertical'\n",
    ")\n",
    "cb.set_label(r'$\\hat{t}(z_{n+1}| z_n, \\theta)$')\n",
    "    \n",
    "plt.savefig('random_walk_checkpoint_score.pdf')\n",
    "plt.show()"
   ]
  },
  {
   "cell_type": "markdown",
   "metadata": {},
   "source": [
    "## Plot estimated overall score"
   ]
  },
  {
   "cell_type": "code",
   "execution_count": 11,
   "metadata": {},
   "outputs": [
    {
     "name": "stderr",
     "output_type": "stream",
     "text": [
      "13:10  locator: <matplotlib.colorbar._ColorbarAutoLocator object at 0xb18e6f438>\n",
      "13:10  Using auto colorbar locator on colorbar\n",
      "13:10  locator: <matplotlib.colorbar._ColorbarAutoLocator object at 0xb18e6f438>\n",
      "13:10  Setting pcolormesh\n",
      "13:10  update_title_pos\n",
      "13:10  Assigning font /b'F1' = '/Users/johannbrehmer/anaconda3/envs/higgs_inference/lib/python3.6/site-packages/matplotlib/mpl-data/fonts/ttf/DejaVuSans.ttf'\n",
      "13:10  update_title_pos\n",
      "13:10  Assigning font /b'F2' = '/Users/johannbrehmer/anaconda3/envs/higgs_inference/lib/python3.6/site-packages/matplotlib/mpl-data/fonts/ttf/DejaVuSans-Oblique.ttf'\n",
      "13:10  Embedding font /Users/johannbrehmer/anaconda3/envs/higgs_inference/lib/python3.6/site-packages/matplotlib/mpl-data/fonts/ttf/DejaVuSans-Oblique.ttf.\n",
      "13:10  Writing TrueType font.\n",
      "13:10  Embedding font /Users/johannbrehmer/anaconda3/envs/higgs_inference/lib/python3.6/site-packages/matplotlib/mpl-data/fonts/ttf/DejaVuSans.ttf.\n",
      "13:10  Writing TrueType font.\n",
      "13:10  update_title_pos\n",
      "13:10  update_title_pos\n",
      "13:10  update_title_pos\n",
      "13:10  update_title_pos\n",
      "13:10  update_title_pos\n",
      "13:10  update_title_pos\n",
      "13:10  update_title_pos\n",
      "13:10  update_title_pos\n",
      "13:10  update_title_pos\n",
      "13:10  update_title_pos\n"
     ]
    },
    {
     "data": {
      "image/png": "[encoded data removed]",
      "text/plain": [
       "<Figure size 720x360 with 2 Axes>"
      ]
     },
     "metadata": {
      "needs_background": "light"
     },
     "output_type": "display_data"
    }
   ],
   "source": [
    "vmax = 0.05\n",
    "\n",
    "fig = plt.figure(figsize=(10,5))\n",
    "ax0 = fig.add_axes([0.1, 0.1, 0.75, 0.85])\n",
    "\n",
    "# Checkpoints\n",
    "for t_checkpoint in checkpoints:\n",
    "    plt.plot(\n",
    "        [t_checkpoint, t_checkpoint], [xmin, xmax],\n",
    "        ls='-',\n",
    "        c='0.65',\n",
    "        lw=1.5\n",
    "    )\n",
    "    \n",
    "# Joint scores for theta0 trajectories\n",
    "for x, t_x in zip(x_test[:n_plot], t_x_test[:n_plot]):\n",
    "    plt.plot(\n",
    "        [0., 1.], [0.,x[0]],\n",
    "        c=ccolor(t_x, -vmax, vmax, 'PRGn'),\n",
    "        ls='-', lw=1., alpha=1.\n",
    "    )\n",
    "    \n",
    "plt.xlim(-0.02,1.02)\n",
    "plt.ylim(xmin, xmax)\n",
    "\n",
    "plt.xlabel('t')\n",
    "plt.ylabel('x')\n",
    "\n",
    "# Color bar\n",
    "ax1 = fig.add_axes([0.87, 0.1, 0.03, 0.85])\n",
    "cb = matplotlib.colorbar.ColorbarBase(\n",
    "    ax1, cmap=matplotlib.cm.get_cmap(\"PRGn\"),\n",
    "    norm=matplotlib.colors.Normalize(vmin=-vmax, vmax=vmax),\n",
    "    orientation='vertical'\n",
    ")\n",
    "cb.set_label(r'$\\hat{t}(x|\\theta)$')\n",
    "    \n",
    "plt.savefig('random_walk_score.pdf')\n",
    "plt.show()"
   ]
  },
  {
   "cell_type": "markdown",
   "metadata": {},
   "source": [
    "## Checkpoint-to-checkpoint score"
   ]
  },
  {
   "cell_type": "code",
   "execution_count": 12,
   "metadata": {},
   "outputs": [],
   "source": [
    "in_micro = z_checkpoints_test[:, :-1, 0].flatten()\n",
    "out_micro = z_checkpoints_test[:, 1:, 0].flatten()\n",
    "diff_micro = out_micro - in_micro\n",
    "\n",
    "t_xz_micro = t_xz_checkpoints_test[:, 1:, 0].flatten()\n",
    "t_x_micro = t_xv_checkpoints_test[:, :, 0].flatten()"
   ]
  },
  {
   "cell_type": "code",
   "execution_count": 13,
   "metadata": {},
   "outputs": [
    {
     "name": "stderr",
     "output_type": "stream",
     "text": [
      "13:10  locator: <matplotlib.colorbar._ColorbarAutoLocator object at 0xb18d2dcc0>\n",
      "13:10  Using auto colorbar locator on colorbar\n",
      "13:10  locator: <matplotlib.colorbar._ColorbarAutoLocator object at 0xb18d2dcc0>\n",
      "13:10  Setting pcolormesh\n",
      "13:10  locator: <matplotlib.colorbar._ColorbarAutoLocator object at 0xb18622fd0>\n",
      "13:10  Using auto colorbar locator on colorbar\n",
      "13:10  locator: <matplotlib.colorbar._ColorbarAutoLocator object at 0xb18622fd0>\n",
      "13:10  Setting pcolormesh\n",
      "13:10  update_title_pos\n",
      "13:10  update_title_pos\n",
      "13:10  update_title_pos\n",
      "13:10  update_title_pos\n",
      "13:10  update_title_pos\n",
      "13:10  Assigning font /b'F1' = '/Users/johannbrehmer/anaconda3/envs/higgs_inference/lib/python3.6/site-packages/matplotlib/mpl-data/fonts/ttf/DejaVuSans.ttf'\n",
      "13:10  Assigning font /b'F2' = '/Users/johannbrehmer/anaconda3/envs/higgs_inference/lib/python3.6/site-packages/matplotlib/mpl-data/fonts/ttf/DejaVuSans-Oblique.ttf'\n",
      "13:10  update_title_pos\n",
      "13:10  update_title_pos\n",
      "13:10  update_title_pos\n",
      "13:10  Embedding font /Users/johannbrehmer/anaconda3/envs/higgs_inference/lib/python3.6/site-packages/matplotlib/mpl-data/fonts/ttf/DejaVuSans-Oblique.ttf.\n",
      "13:10  Writing TrueType font.\n",
      "13:10  Embedding font /Users/johannbrehmer/anaconda3/envs/higgs_inference/lib/python3.6/site-packages/matplotlib/mpl-data/fonts/ttf/DejaVuSans.ttf.\n",
      "13:10  Writing TrueType font.\n",
      "13:10  update_title_pos\n",
      "13:10  update_title_pos\n",
      "13:10  update_title_pos\n",
      "13:10  update_title_pos\n",
      "13:10  update_title_pos\n",
      "13:10  update_title_pos\n",
      "13:10  update_title_pos\n",
      "13:10  update_title_pos\n",
      "13:10  update_title_pos\n",
      "13:10  update_title_pos\n",
      "13:10  update_title_pos\n",
      "13:10  update_title_pos\n",
      "13:10  update_title_pos\n",
      "13:10  update_title_pos\n",
      "13:10  update_title_pos\n",
      "13:10  update_title_pos\n",
      "13:10  update_title_pos\n",
      "13:10  update_title_pos\n",
      "13:10  update_title_pos\n",
      "13:10  update_title_pos\n"
     ]
    },
    {
     "data": {
      "image/png": "[encoded data removed]",
      "text/plain": [
       "<Figure size 720x288 with 4 Axes>"
      ]
     },
     "metadata": {
      "needs_background": "light"
     },
     "output_type": "display_data"
    }
   ],
   "source": [
    "vmax = 0.1\n",
    "fig = plt.figure(figsize=(10.,4.))\n",
    "\n",
    "\n",
    "ax = plt.subplot(1,2,1)\n",
    "\n",
    "sc = plt.scatter(in_micro, out_micro, c=t_xz_micro, cmap='PRGn', vmin=-vmax, vmax=vmax, s=5.)\n",
    "plt.plot([xmin, xmax], [xmin, xmax], ls='-', lw=1., c='black', alpha=0.3)\n",
    "cb = plt.colorbar(sc)\n",
    "\n",
    "plt.xlim(xmin, xmax)\n",
    "plt.ylim(xmin, xmax)\n",
    "plt.xlabel(r'$v_{i-1}$')\n",
    "plt.ylabel(r'$v_{i}$')\n",
    "cb.set_label(r'$t(v_i, z_i | v_{i-1})$')\n",
    "\n",
    "\n",
    "ax = plt.subplot(1,2,2)\n",
    "\n",
    "sc = plt.scatter(in_micro, out_micro, c=t_x_micro, cmap='PRGn', vmin=-vmax, vmax=vmax, s=5.)\n",
    "plt.plot([xmin, xmax], [xmin, xmax], ls='-', lw=1., c='black', alpha=0.3)\n",
    "cb = plt.colorbar(sc)\n",
    "\n",
    "plt.xlim(xmin, xmax)\n",
    "plt.ylim(xmin, xmax)\n",
    "plt.xlabel(r'$v_{i-1}$')\n",
    "plt.ylabel(r'$v_{i}$')\n",
    "cb.set_label(r'$\\hat{t}_i(v_i | v_{i-1})$')\n",
    "\n",
    "\n",
    "plt.tight_layout()\n",
    "plt.savefig('random_walk_micro_score.pdf')\n"
   ]
  },
  {
   "cell_type": "code",
   "execution_count": 14,
   "metadata": {},
   "outputs": [
    {
     "name": "stderr",
     "output_type": "stream",
     "text": [
      "/Users/johannbrehmer/anaconda3/envs/higgs_inference/lib/python3.6/site-packages/numpy/core/fromnumeric.py:2920: RuntimeWarning: Mean of empty slice.\n",
      "  out=out, **kwargs)\n",
      "/Users/johannbrehmer/anaconda3/envs/higgs_inference/lib/python3.6/site-packages/numpy/core/_methods.py:85: RuntimeWarning: invalid value encountered in double_scalars\n",
      "  ret = ret.dtype.type(ret / rcount)\n"
     ]
    }
   ],
   "source": [
    "diff_boundaries = np.linspace(-15.5,15.5,32)\n",
    "t_xz_micro_means = []\n",
    "\n",
    "for left, right in zip(diff_boundaries[:-1], diff_boundaries[1:]):\n",
    "    cut = np.logical_and((diff_micro >= left), (diff_micro < right))\n",
    "    t_xz_micro_means.append(np.mean(t_xz_micro[cut]))\n",
    "                         \n",
    "t_xz_micro_means = np.asarray(t_xz_micro_means)\n",
    "                         \n",
    "diff_boundaries = np.repeat(diff_boundaries, 2)[1:-1]\n",
    "t_xz_micro_means = np.repeat(t_xz_micro_means, 2)\n",
    "                         "
   ]
  },
  {
   "cell_type": "code",
   "execution_count": 15,
   "metadata": {},
   "outputs": [
    {
     "name": "stderr",
     "output_type": "stream",
     "text": [
      "13:10  update_title_pos\n",
      "13:10  update_title_pos\n",
      "13:10  Assigning font /b'F1' = '/Users/johannbrehmer/anaconda3/envs/higgs_inference/lib/python3.6/site-packages/matplotlib/mpl-data/fonts/ttf/DejaVuSans.ttf'\n",
      "13:10  Assigning font /b'F2' = '/Users/johannbrehmer/anaconda3/envs/higgs_inference/lib/python3.6/site-packages/matplotlib/mpl-data/fonts/ttf/DejaVuSans-Oblique.ttf'\n",
      "13:10  Embedding font /Users/johannbrehmer/anaconda3/envs/higgs_inference/lib/python3.6/site-packages/matplotlib/mpl-data/fonts/ttf/DejaVuSans-Oblique.ttf.\n",
      "13:10  Writing TrueType font.\n",
      "13:10  Embedding font /Users/johannbrehmer/anaconda3/envs/higgs_inference/lib/python3.6/site-packages/matplotlib/mpl-data/fonts/ttf/DejaVuSans.ttf.\n",
      "13:10  Writing TrueType font.\n",
      "13:10  update_title_pos\n",
      "13:10  update_title_pos\n",
      "13:10  update_title_pos\n",
      "13:10  update_title_pos\n",
      "13:10  update_title_pos\n"
     ]
    },
    {
     "data": {
      "image/png": "[encoded data removed]",
      "text/plain": [
       "<Figure size 360x360 with 1 Axes>"
      ]
     },
     "metadata": {
      "needs_background": "light"
     },
     "output_type": "display_data"
    }
   ],
   "source": [
    "skip=1\n",
    "vmax=0.1\n",
    "\n",
    "fig = plt.figure(figsize=(5,5))\n",
    "\n",
    "plt.scatter(diff_micro[::skip], t_xz_micro[::skip], c='orange', s=5., alpha=0.3)\n",
    "plt.scatter(diff_micro[::skip], t_x_micro[::skip], c='black', s=5., alpha=0.4)\n",
    "plt.plot(diff_boundaries, t_xz_micro_means, c='blue', lw=1.5, alpha=1.)\n",
    "\n",
    "plt.xlabel(r'$v_i - v_{i-1}$')\n",
    "plt.ylabel(r'$t(v_i, z_i | v_{i-1})$ (orange, mean blue), $\\hat{t}_i(v_i | v_{i-1})$ (black)')\n",
    "\n",
    "plt.xlim(-20., 20.)\n",
    "plt.ylim(-vmax, vmax)\n",
    "\n",
    "plt.tight_layout()\n",
    "plt.savefig('random_walk_micro_score_vs_diff.pdf')\n"
   ]
  },
  {
   "cell_type": "markdown",
   "metadata": {},
   "source": [
    "## Global model"
   ]
  },
  {
   "cell_type": "code",
   "execution_count": 16,
   "metadata": {},
   "outputs": [],
   "source": [
    "x_macro = x_test.flatten()\n",
    "\n",
    "t_xz_macro = t_xz_test\n",
    "t_xv_macro = np.sum(t_xv_checkpoints_test, axis=1).flatten()\n",
    "t_x_macro = t_x_test.flatten()"
   ]
  },
  {
   "cell_type": "code",
   "execution_count": 17,
   "metadata": {},
   "outputs": [
    {
     "name": "stderr",
     "output_type": "stream",
     "text": [
      "/Users/johannbrehmer/anaconda3/envs/higgs_inference/lib/python3.6/site-packages/numpy/core/_methods.py:85: RuntimeWarning: invalid value encountered in true_divide\n",
      "  ret = ret.dtype.type(ret / rcount)\n"
     ]
    }
   ],
   "source": [
    "x_boundaries = np.linspace(xmin,xmax,int((xmax - xmin) / 2. + 1.))\n",
    "t_xz_macro_means = []\n",
    "t_xv_macro_means = []\n",
    "\n",
    "for left, right in zip(x_boundaries[:-1], x_boundaries[1:]):\n",
    "    cut = np.logical_and((x_macro >= left), (x_macro < right))\n",
    "    t_xz_macro_means.append(np.mean(t_xz_macro[cut]))\n",
    "    t_xv_macro_means.append(np.mean(t_xv_macro[cut]))\n",
    "                         \n",
    "t_xz_macro_means = np.asarray(t_xz_macro_means)\n",
    "t_xv_macro_means = np.asarray(t_xv_macro_means)\n",
    "                         \n",
    "x_boundaries = np.repeat(x_boundaries, 2)[1:-1]\n",
    "t_xz_macro_means = np.repeat(t_xz_macro_means, 2)\n",
    "t_xv_macro_means = np.repeat(t_xv_macro_means, 2)\n",
    "                         "
   ]
  },
  {
   "cell_type": "code",
   "execution_count": 18,
   "metadata": {},
   "outputs": [
    {
     "name": "stderr",
     "output_type": "stream",
     "text": [
      "13:10  update_title_pos\n",
      "13:10  update_title_pos\n",
      "13:10  update_title_pos\n",
      "13:10  Assigning font /b'F1' = '/Users/johannbrehmer/anaconda3/envs/higgs_inference/lib/python3.6/site-packages/matplotlib/mpl-data/fonts/ttf/DejaVuSans.ttf'\n",
      "13:10  Assigning font /b'F2' = '/Users/johannbrehmer/anaconda3/envs/higgs_inference/lib/python3.6/site-packages/matplotlib/mpl-data/fonts/ttf/DejaVuSans-Oblique.ttf'\n",
      "13:10  update_title_pos\n",
      "13:10  Embedding font /Users/johannbrehmer/anaconda3/envs/higgs_inference/lib/python3.6/site-packages/matplotlib/mpl-data/fonts/ttf/DejaVuSans-Oblique.ttf.\n",
      "13:10  Writing TrueType font.\n",
      "13:10  Embedding font /Users/johannbrehmer/anaconda3/envs/higgs_inference/lib/python3.6/site-packages/matplotlib/mpl-data/fonts/ttf/DejaVuSans.ttf.\n",
      "13:10  Writing TrueType font.\n",
      "13:10  update_title_pos\n",
      "13:10  update_title_pos\n",
      "13:10  update_title_pos\n",
      "13:10  update_title_pos\n",
      "13:10  update_title_pos\n",
      "13:10  update_title_pos\n",
      "13:10  update_title_pos\n",
      "13:10  update_title_pos\n",
      "13:10  update_title_pos\n",
      "13:10  update_title_pos\n"
     ]
    },
    {
     "data": {
      "image/png": "[encoded data removed]",
      "text/plain": [
       "<Figure size 720x360 with 2 Axes>"
      ]
     },
     "metadata": {
      "needs_background": "light"
     },
     "output_type": "display_data"
    }
   ],
   "source": [
    "fig = plt.figure(figsize=(10,5))\n",
    "\n",
    "\n",
    "ax = plt.subplot(1,2,1)\n",
    "\n",
    "plt.scatter(x_macro, t_xz_macro, c='orange', s=5., alpha=0.3)\n",
    "plt.scatter(x_macro, t_x_macro, c='black', s=5., alpha=0.4)\n",
    "plt.plot(x_boundaries, t_xz_macro_means, c='blue', lw=1.5, alpha=1.)\n",
    "\n",
    "plt.xlabel(r'$x$')\n",
    "plt.ylabel(r'$t(x, z)$ (orange, mean blue), $\\hat{t}(x)$ (black)')\n",
    "\n",
    "plt.xlim(xmin, xmax)\n",
    "plt.ylim(-0.2, 0.2)\n",
    "\n",
    "\n",
    "ax = plt.subplot(1,2,2)\n",
    "\n",
    "plt.scatter(x_macro, t_xv_macro, c='orange', s=5., alpha=0.3)\n",
    "plt.scatter(x_macro, t_x_macro, c='black', s=5., alpha=0.4)\n",
    "plt.plot(x_boundaries, t_xv_macro_means, c='blue', lw=1.5, alpha=1.)\n",
    "\n",
    "plt.xlabel(r'$x$')\n",
    "plt.ylabel(r'$\\hat{t}(x, v)$ (orange, mean blue), $\\hat{t}(x)$ (black)')\n",
    "\n",
    "plt.xlim(xmin, xmax)\n",
    "plt.ylim(-0.2, 0.2)\n",
    "\n",
    "\n",
    "\n",
    "plt.tight_layout()\n",
    "plt.savefig('random_walk_macro_score.pdf')\n"
   ]
  },
  {
   "cell_type": "code",
   "execution_count": null,
   "metadata": {},
   "outputs": [],
   "source": []
  }
 ],
 "metadata": {
  "kernelspec": {
   "display_name": "Python (higgs_inference)",
   "language": "python",
   "name": "higgs_inference"
  },
  "language_info": {
   "codemirror_mode": {
    "name": "ipython",
    "version": 3
   },
   "file_extension": ".py",
   "mimetype": "text/x-python",
   "name": "python",
   "nbconvert_exporter": "python",
   "pygments_lexer": "ipython3",
   "version": "3.6.7"
  }
 },
 "nbformat": 4,
 "nbformat_minor": 2
}
