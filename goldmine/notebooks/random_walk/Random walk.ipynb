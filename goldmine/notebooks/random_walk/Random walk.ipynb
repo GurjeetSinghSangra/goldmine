{
 "cells": [
  {
   "cell_type": "markdown",
   "metadata": {},
   "source": [
    "# Random walk"
   ]
  },
  {
   "cell_type": "code",
   "execution_count": 1,
   "metadata": {},
   "outputs": [],
   "source": [
    "import sys\n",
    "import numpy as np\n",
    "import corner\n",
    "from matplotlib import pyplot as plt\n",
    "%matplotlib inline\n",
    "import logging\n",
    "\n",
    "from goldmine.simulators.random_walk_checkpointed import CheckpointedRandomWalk"
   ]
  },
  {
   "cell_type": "code",
   "execution_count": 2,
   "metadata": {},
   "outputs": [],
   "source": [
    "logging.basicConfig(format='%(asctime)s  %(message)s', datefmt='%H:%M')\n",
    "logging.getLogger().setLevel(logging.INFO)"
   ]
  },
  {
   "cell_type": "markdown",
   "metadata": {},
   "source": [
    "## Simulate random walk"
   ]
  },
  {
   "cell_type": "code",
   "execution_count": 7,
   "metadata": {},
   "outputs": [],
   "source": [
    "n_sim = 10000\n",
    "n_plot = 20"
   ]
  },
  {
   "cell_type": "code",
   "execution_count": null,
   "metadata": {},
   "outputs": [],
   "source": [
    "sim = CheckpointedRandomWalk()\n",
    "x0, t_xz0, z_checkpoints0, t_xz_checkpoints0, z0 = sim.rvs_score([80.], [100.], n_sim, return_histories=True)\n",
    "x1, t_xz1, z_checkpoints1, t_xz_checkpoints1, z1 = sim.rvs_score([150.], [100.], n_sim, return_histories=True)"
   ]
  },
  {
   "cell_type": "markdown",
   "metadata": {},
   "source": [
    "## Plot random walks"
   ]
  },
  {
   "cell_type": "code",
   "execution_count": null,
   "metadata": {},
   "outputs": [],
   "source": [
    "checkpoints = np.linspace(0.,1.,11)\n",
    "xmin, xmax = -30, 100\n",
    "\n",
    "fig = plt.figure(figsize=(10,5))\n",
    "\n",
    "# Checkpoints\n",
    "for t_checkpoint in checkpoints:\n",
    "    plt.plot(\n",
    "        [t_checkpoint, t_checkpoint], [xmin, xmax],\n",
    "        ls='-',\n",
    "        c='0.65',\n",
    "        lw=1.5\n",
    "    )\n",
    "    \n",
    "# Trajectories from theta0\n",
    "for z in z0[:n_plot]:\n",
    "    plt.plot(\n",
    "        np.array(z)[:,0], np.array(z)[:,1],\n",
    "        ls='-',c='C0', lw=1., alpha=0.5\n",
    "    )\n",
    "    \n",
    "# Trajectories from theta1\n",
    "for z in z1[:n_plot]:\n",
    "    plt.plot(\n",
    "        np.array(z)[:,0], np.array(z)[:,1],\n",
    "        ls='-', c='C1',lw=1., alpha=0.5\n",
    "    )\n",
    "    \n",
    "# Checkpoints from theta0\n",
    "for z in z_checkpoints0:\n",
    "    plt.plot(\n",
    "        checkpoints, z,\n",
    "        marker='o', ms=5., ls=' ', c='C0', alpha=1.\n",
    "    )\n",
    "    \n",
    "# Checkpoints from theta1\n",
    "for z in z_checkpoints1[:n_plot]:\n",
    "    plt.plot(\n",
    "        checkpoints, z,\n",
    "        marker='o', ms=5., ls=' ', c='C1', alpha=1.\n",
    "    )\n",
    "    \n",
    "plt.xlim(-0.02,1.02)\n",
    "plt.ylim(xmin, xmax)\n",
    "    \n",
    "plt.tight_layout()\n",
    "plt.show()"
   ]
  },
  {
   "cell_type": "markdown",
   "metadata": {},
   "source": [
    "## Plot joint scores"
   ]
  },
  {
   "cell_type": "code",
   "execution_count": null,
   "metadata": {},
   "outputs": [],
   "source": [
    "checkpoints = np.linspace(0.,1.,11)\n",
    "xmin, xmax = -30, 100\n",
    "\n",
    "fig = plt.figure(figsize=(10,5))\n",
    "\n",
    "# Checkpoints\n",
    "for t_checkpoint in checkpoints:\n",
    "    plt.plot(\n",
    "        [t_checkpoint, t_checkpoint], [xmin, xmax],\n",
    "        ls='-',\n",
    "        c='0.65',\n",
    "        lw=1.5\n",
    "    )\n",
    "    \n",
    "# Joint scores for theta0 trajectories\n",
    "for z in z_checkpoints0[:n_plot]:\n",
    "    for i in range(len(checkpoints) - 1)\n",
    "        plt.plot(\n",
    "            [checkpoints[i], checkpoints[i+1]], [z[i], z[i+1]],\n",
    "            ls='-', c='C0', lw=1.5, alpha=1.\n",
    "        )\n",
    "    \n",
    "# Joint scores for theta0 trajectories\n",
    "for z in z_checkpoints1[:n_plot]:\n",
    "    for i in range(len(checkpoints) - 1)\n",
    "        plt.plot(\n",
    "            [checkpoints[i], checkpoints[i+1]], [z[i], z[i+1]],\n",
    "            ls='-', c='C1', lw=1.5, alpha=1.\n",
    "        )\n",
    "    \n",
    "plt.xlim(-0.02,1.02)\n",
    "plt.ylim(xmin, xmax)\n",
    "    \n",
    "plt.tight_layout()\n",
    "plt.show()"
   ]
  },
  {
   "cell_type": "code",
   "execution_count": null,
   "metadata": {},
   "outputs": [],
   "source": []
  }
 ],
 "metadata": {
  "kernelspec": {
   "display_name": "Python (higgs_inference)",
   "language": "python",
   "name": "higgs_inference"
  },
  "language_info": {
   "codemirror_mode": {
    "name": "ipython",
    "version": 3
   },
   "file_extension": ".py",
   "mimetype": "text/x-python",
   "name": "python",
   "nbconvert_exporter": "python",
   "pygments_lexer": "ipython3",
   "version": "3.6.7"
  }
 },
 "nbformat": 4,
 "nbformat_minor": 2
}
