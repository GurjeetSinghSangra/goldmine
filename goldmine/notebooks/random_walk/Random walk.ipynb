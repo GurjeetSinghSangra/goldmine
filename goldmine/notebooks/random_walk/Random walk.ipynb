{
 "cells": [
  {
   "cell_type": "markdown",
   "metadata": {},
   "source": [
    "# Random walk"
   ]
  },
  {
   "cell_type": "code",
   "execution_count": 1,
   "metadata": {},
   "outputs": [],
   "source": [
    "import sys\n",
    "import numpy as np\n",
    "import corner\n",
    "import matplotlib\n",
    "from matplotlib import pyplot as plt\n",
    "%matplotlib inline\n",
    "import logging\n",
    "\n",
    "from goldmine.simulators.random_walk_checkpointed import CheckpointedRandomWalk\n",
    "from goldmine.inference.scandal_checkpointed import CheckpointedSCANDALInference"
   ]
  },
  {
   "cell_type": "code",
   "execution_count": 2,
   "metadata": {},
   "outputs": [],
   "source": [
    "logging.basicConfig(format='%(asctime)s  %(message)s', datefmt='%H:%M')\n",
    "logging.getLogger().setLevel(logging.INFO)"
   ]
  },
  {
   "cell_type": "code",
   "execution_count": 3,
   "metadata": {},
   "outputs": [],
   "source": [
    "def ccolor(val, vmin, vmax, cmap='viridis'):\n",
    "    cmap = matplotlib.cm.get_cmap(cmap)\n",
    "    return cmap((val - vmin) / (vmax - vmin)).reshape(-1,)"
   ]
  },
  {
   "cell_type": "markdown",
   "metadata": {},
   "source": [
    "## Settings"
   ]
  },
  {
   "cell_type": "code",
   "execution_count": 4,
   "metadata": {},
   "outputs": [],
   "source": [
    "n_sim = 5000\n",
    "n_plot = 20\n",
    "\n",
    "theta0 = 80.\n",
    "theta1 = 150."
   ]
  },
  {
   "cell_type": "markdown",
   "metadata": {},
   "source": [
    "## Simulate random walk"
   ]
  },
  {
   "cell_type": "code",
   "execution_count": null,
   "metadata": {},
   "outputs": [
    {
     "name": "stderr",
     "output_type": "stream",
     "text": [
      "/Users/johannbrehmer/anaconda3/envs/higgs_inference/lib/python3.6/site-packages/autograd/tracer.py:14: UserWarning: Output seems independent of input.\n",
      "  warnings.warn(\"Output seems independent of input.\")\n"
     ]
    }
   ],
   "source": [
    "sim = CheckpointedRandomWalk()\n",
    "x0, t_xz0, z_checkpoints0, t_xz_checkpoints0, z0 = sim.rvs_score([theta0], [100.], n_sim, return_histories=True)\n",
    "x1, t_xz1, z_checkpoints1, t_xz_checkpoints1, z1 = sim.rvs_score([theta1], [100.], n_sim, return_histories=True)"
   ]
  },
  {
   "cell_type": "markdown",
   "metadata": {},
   "source": [
    "## Train SCANDAL"
   ]
  },
  {
   "cell_type": "code",
   "execution_count": null,
   "metadata": {},
   "outputs": [],
   "source": [
    "inf0 = CheckpointedSCANDALInference(\n",
    "    n_parameters=1,\n",
    "    n_observables=1,\n",
    "    n_latent=1,\n",
    "    n_components=1,\n",
    "    n_mades=1,\n",
    "    n_made_hidden_layers=1,\n",
    "    n_made_units_per_layer=20,\n",
    "    activation='relu',\n",
    "    batch_norm=False,\n",
    "    n_step_hidden_layers=1,\n",
    "    n_step_units_per_layer=20,\n",
    "    step_activation='relu'\n",
    ")\n",
    "\n",
    "inf0.fit(\n",
    "    theta=theta0 * np.ones_like(t_xz0),\n",
    "    x=x0,\n",
    "    t_xz=t_xz0,\n",
    "    t_xz_checkpoints=t_xz_checkpoints0,\n",
    "    z_checkpoints=z_checkpoints0,\n",
    "    alpha=1.,\n",
    "    beta=1000.,\n",
    "    validation_split=None,\n",
    ")"
   ]
  },
  {
   "cell_type": "code",
   "execution_count": null,
   "metadata": {},
   "outputs": [],
   "source": [
    "t_x0 = inf0.predict_score(\n",
    "    theta=theta0 * np.ones_like(t_xz0),\n",
    "    x=x0\n",
    ")"
   ]
  },
  {
   "cell_type": "code",
   "execution_count": null,
   "metadata": {},
   "outputs": [],
   "source": [
    "t_xzcp0 = inf0.predict_checkpoint_scores(\n",
    "    theta=theta0 * np.ones_like(t_xz0),\n",
    "    z_checkpoints=z_checkpoints0\n",
    ")"
   ]
  },
  {
   "cell_type": "code",
   "execution_count": null,
   "metadata": {},
   "outputs": [],
   "source": [
    "inf1 = CheckpointedSCANDALInference(\n",
    "    n_parameters=1,\n",
    "    n_observables=1,\n",
    "    n_latent=1,\n",
    "    n_components=1,\n",
    "    n_mades=1,\n",
    "    n_made_hidden_layers=1,\n",
    "    n_made_units_per_layer=20,\n",
    "    activation='relu',\n",
    "    batch_norm=False,\n",
    "    n_step_hidden_layers=1,\n",
    "    n_step_units_per_layer=20,\n",
    "    step_activation='relu'\n",
    ")\n",
    "\n",
    "inf1.fit(\n",
    "    theta=theta1 * np.ones_like(t_xz0),\n",
    "    x=x1,\n",
    "    t_xz=t_xz1,\n",
    "    t_xz_checkpoints=t_xz_checkpoints1,\n",
    "    z_checkpoints=z_checkpoints1,\n",
    "    alpha=1.,\n",
    "    beta=1000.,\n",
    "    validation_split=None,\n",
    ")"
   ]
  },
  {
   "cell_type": "code",
   "execution_count": null,
   "metadata": {},
   "outputs": [],
   "source": [
    "t_x1 = inf1.predict_score(\n",
    "    theta=theta1 * np.ones_like(t_xz0),\n",
    "    x=x1\n",
    ")"
   ]
  },
  {
   "cell_type": "code",
   "execution_count": null,
   "metadata": {},
   "outputs": [],
   "source": [
    "t_xzcp1 = inf1.predict_checkpoint_scores(\n",
    "    theta=theta1 * np.ones_like(t_xz1),\n",
    "    z_checkpoints=z_checkpoints1\n",
    ")"
   ]
  },
  {
   "cell_type": "markdown",
   "metadata": {},
   "source": [
    "## Plot random walks"
   ]
  },
  {
   "cell_type": "code",
   "execution_count": null,
   "metadata": {},
   "outputs": [],
   "source": [
    "checkpoints = np.linspace(0.,1.,11)\n",
    "xmin, xmax = -50, 80\n",
    "\n",
    "fig = plt.figure(figsize=(10,5))\n",
    "\n",
    "# Checkpoints\n",
    "for t_checkpoint in checkpoints:\n",
    "    plt.plot(\n",
    "        [t_checkpoint, t_checkpoint], [xmin, xmax],\n",
    "        ls='-',\n",
    "        c='0.65',\n",
    "        lw=1.5\n",
    "    )\n",
    "    \n",
    "# Trajectories from theta0\n",
    "for z in z0[:n_plot]:\n",
    "    plt.plot(\n",
    "        np.array(z)[:,0], np.array(z)[:,1],\n",
    "        ls='-',c='C0', lw=1., alpha=0.5\n",
    "    )\n",
    "    \n",
    "# Trajectories from theta1\n",
    "for z in z1[:n_plot]:\n",
    "    plt.plot(\n",
    "        np.array(z)[:,0], np.array(z)[:,1],\n",
    "        ls='-', c='C1',lw=1., alpha=0.5\n",
    "    )\n",
    "    \n",
    "# Checkpoints from theta0\n",
    "for z in z_checkpoints0[:n_plot]:\n",
    "    plt.plot(\n",
    "        checkpoints, z,\n",
    "        marker='o', ms=5., ls=' ', c='C0', alpha=1.\n",
    "    )\n",
    "    \n",
    "# Checkpoints from theta1\n",
    "for z in z_checkpoints1[:n_plot]:\n",
    "    plt.plot(\n",
    "        checkpoints, z,\n",
    "        marker='o', ms=5., ls=' ', c='C1', alpha=1.\n",
    "    )\n",
    "    \n",
    "plt.xlim(-0.02,1.02)\n",
    "plt.ylim(xmin, xmax)\n",
    "\n",
    "plt.xlabel('t')\n",
    "plt.ylabel('x')\n",
    "    \n",
    "plt.tight_layout()\n",
    "plt.show()"
   ]
  },
  {
   "cell_type": "markdown",
   "metadata": {},
   "source": [
    "## Plot scores"
   ]
  },
  {
   "cell_type": "code",
   "execution_count": null,
   "metadata": {},
   "outputs": [],
   "source": [
    "checkpoints = np.linspace(0.,1.,11)\n",
    "xmin, xmax = -50, 80\n",
    "vmax = 0.1\n",
    "\n",
    "fig = plt.figure(figsize=(10,5))\n",
    "ax0 = fig.add_axes([0.1, 0.1, 0.75, 0.85])\n",
    "\n",
    "# Checkpoints\n",
    "for t_checkpoint in checkpoints:\n",
    "    plt.plot(\n",
    "        [t_checkpoint, t_checkpoint], [xmin, xmax],\n",
    "        ls='-',\n",
    "        c='0.65',\n",
    "        lw=1.5\n",
    "    )\n",
    "    \n",
    "# Joint scores for theta0 trajectories\n",
    "for z, z_cp, t_xz in zip(z0[:n_plot], z_checkpoints0[:n_plot], t_xz_checkpoints0[:n_plot]):\n",
    "    for i in range(len(checkpoints) - 1):\n",
    "        t = np.array(z)[:,0]\n",
    "        x = np.array(z)[:,1]\n",
    "        \n",
    "        tmin, tmax = checkpoints[i], checkpoints[i+1]\n",
    "        t_ = t[(t >= tmin) & (t < tmax)]\n",
    "        x_ = x[(t >= tmin) & (t < tmax)]\n",
    "        \n",
    "        t_ = np.hstack([[checkpoints[i]], t_, [checkpoints[i+1]]])\n",
    "        x_ = np.hstack([z_cp[i], x_, z_cp[i+1]])\n",
    "        \n",
    "        plt.plot(\n",
    "            t_, x_,\n",
    "            c=ccolor(t_xz[i+1], -vmax, vmax, 'PRGn'),\n",
    "            ls='-', lw=1., alpha=1.\n",
    "        )\n",
    "    \n",
    "# Joint scores for theta1 trajectories\n",
    "for z, z_cp, t_xz in zip(z1[:n_plot], z_checkpoints1[:n_plot], t_xz_checkpoints1[:n_plot]):\n",
    "    for i in range(len(checkpoints) - 1):\n",
    "        t = np.array(z)[:,0]\n",
    "        x = np.array(z)[:,1]\n",
    "        \n",
    "        tmin, tmax = checkpoints[i], checkpoints[i+1]\n",
    "        t_ = t[(t >= tmin) & (t < tmax)]\n",
    "        x_ = x[(t >= tmin) & (t < tmax)]\n",
    "        \n",
    "        t_ = np.hstack([[checkpoints[i]], t_, [checkpoints[i+1]]])\n",
    "        x_ = np.hstack([z_cp[i], x_, z_cp[i+1]])\n",
    "        \n",
    "        plt.plot(\n",
    "            t_, x_,\n",
    "            c=ccolor(t_xz[i+1], -vmax, vmax, 'PRGn'),\n",
    "            ls='-', lw=1., alpha=1.\n",
    "        )\n",
    "    \n",
    "plt.xlim(-0.02,1.02)\n",
    "plt.ylim(xmin, xmax)\n",
    "\n",
    "plt.xlabel('t')\n",
    "plt.ylabel('x')\n",
    "\n",
    "# Color bar\n",
    "ax1 = fig.add_axes([0.87, 0.1, 0.03, 0.85])\n",
    "cb = matplotlib.colorbar.ColorbarBase(\n",
    "    ax1, cmap=matplotlib.cm.get_cmap(\"PRGn\"),\n",
    "    norm=matplotlib.colors.Normalize(vmin=-vmax, vmax=vmax),\n",
    "    orientation='vertical'\n",
    ")\n",
    "cb.set_label(r'$t(z_{n+1}, z | z_n, \\theta)$')\n",
    "    \n",
    "plt.savefig('random_walk_joint_score.pdf')\n",
    "plt.show()"
   ]
  },
  {
   "cell_type": "markdown",
   "metadata": {},
   "source": [
    "## Plot estimated checkpoint scores"
   ]
  },
  {
   "cell_type": "code",
   "execution_count": null,
   "metadata": {},
   "outputs": [],
   "source": [
    "t_xzcp0.shape"
   ]
  },
  {
   "cell_type": "code",
   "execution_count": null,
   "metadata": {},
   "outputs": [],
   "source": [
    "checkpoints = np.linspace(0.,1.,11)\n",
    "xmin, xmax = -50, 80\n",
    "vmax = 0.1\n",
    "\n",
    "fig = plt.figure(figsize=(10,5))\n",
    "ax0 = fig.add_axes([0.1, 0.1, 0.75, 0.85])\n",
    "\n",
    "# Checkpoints\n",
    "for t_checkpoint in checkpoints:\n",
    "    plt.plot(\n",
    "        [t_checkpoint, t_checkpoint], [xmin, xmax],\n",
    "        ls='-',\n",
    "        c='0.65',\n",
    "        lw=1.5\n",
    "    )\n",
    "    \n",
    "# Joint scores for theta0 trajectories\n",
    "for z, z_cp, t_xz in zip(z0[:n_plot], z_checkpoints0[:n_plot], t_xzcp0[:n_plot]):\n",
    "    for i in range(len(checkpoints) - 1):\n",
    "        t = np.array(z)[:,0]\n",
    "        x = np.array(z)[:,1]\n",
    "        \n",
    "        tmin, tmax = checkpoints[i], checkpoints[i+1]\n",
    "        t_ = t[(t >= tmin) & (t < tmax)]\n",
    "        x_ = x[(t >= tmin) & (t < tmax)]\n",
    "        \n",
    "        t_ = np.hstack([[checkpoints[i]], t_, [checkpoints[i+1]]])\n",
    "        x_ = np.hstack([z_cp[i], x_, z_cp[i+1]])\n",
    "        \n",
    "        plt.plot(\n",
    "            t_, x_,\n",
    "            c=ccolor(t_xz[i+1], -vmax, vmax, 'PRGn'),\n",
    "            ls='-', lw=1., alpha=1.\n",
    "        )\n",
    "    \n",
    "# Joint scores for theta1 trajectories\n",
    "for z, z_cp, t_xz in zip(z1[:n_plot], z_checkpoints1[:n_plot], t_xzcp1[:n_plot]):\n",
    "    for i in range(len(checkpoints) - 1):\n",
    "        t = np.array(z)[:,0]\n",
    "        x = np.array(z)[:,1]\n",
    "        \n",
    "        tmin, tmax = checkpoints[i], checkpoints[i+1]\n",
    "        t_ = t[(t >= tmin) & (t < tmax)]\n",
    "        x_ = x[(t >= tmin) & (t < tmax)]\n",
    "        \n",
    "        t_ = np.hstack([[checkpoints[i]], t_, [checkpoints[i+1]]])\n",
    "        x_ = np.hstack([z_cp[i], x_, z_cp[i+1]])\n",
    "        \n",
    "        plt.plot(\n",
    "            t_, x_,\n",
    "            c=ccolor(t_xz[i+1], -vmax, vmax, 'PRGn'),\n",
    "            ls='-', lw=1., alpha=1.\n",
    "        )\n",
    "    \n",
    "plt.xlim(-0.02,1.02)\n",
    "plt.ylim(xmin, xmax)\n",
    "\n",
    "plt.xlabel('t')\n",
    "plt.ylabel('x')\n",
    "\n",
    "# Color bar\n",
    "ax1 = fig.add_axes([0.87, 0.1, 0.03, 0.85])\n",
    "cb = matplotlib.colorbar.ColorbarBase(\n",
    "    ax1, cmap=matplotlib.cm.get_cmap(\"PRGn\"),\n",
    "    norm=matplotlib.colors.Normalize(vmin=-vmax, vmax=vmax),\n",
    "    orientation='vertical'\n",
    ")\n",
    "cb.set_label(r'$\\hat{t}(z_{n+1}| z_n, \\theta)$')\n",
    "    \n",
    "plt.savefig('random_walk_score_conditional_on_checkpoints.pdf')\n",
    "plt.show()"
   ]
  },
  {
   "cell_type": "markdown",
   "metadata": {},
   "source": [
    "## Plot estimated overall score"
   ]
  },
  {
   "cell_type": "code",
   "execution_count": null,
   "metadata": {},
   "outputs": [],
   "source": [
    "checkpoints = np.linspace(0.,1.,11)\n",
    "xmin, xmax = -50, 80\n",
    "vmax = 0.1\n",
    "\n",
    "fig = plt.figure(figsize=(10,5))\n",
    "ax0 = fig.add_axes([0.1, 0.1, 0.75, 0.85])\n",
    "\n",
    "# Checkpoints\n",
    "for t_checkpoint in checkpoints:\n",
    "    plt.plot(\n",
    "        [t_checkpoint, t_checkpoint], [xmin, xmax],\n",
    "        ls='-',\n",
    "        c='0.65',\n",
    "        lw=1.5\n",
    "    )\n",
    "    \n",
    "# Joint scores for theta0 trajectories\n",
    "for z, z_cp, t_x in zip(z0[:n_plot], z_checkpoints0[:n_plot], t_x0[:n_plot]):\n",
    "    for i in range(len(checkpoints) - 1):\n",
    "        t = np.array(z)[:,0]\n",
    "        x = np.array(z)[:,1]\n",
    "        \n",
    "        tmin, tmax = checkpoints[i], checkpoints[i+1]\n",
    "        t_ = t[(t >= tmin) & (t < tmax)]\n",
    "        x_ = x[(t >= tmin) & (t < tmax)]\n",
    "        \n",
    "        t_ = np.hstack([[checkpoints[i]], t_, [checkpoints[i+1]]])\n",
    "        x_ = np.hstack([z_cp[i], x_, z_cp[i+1]])\n",
    "        \n",
    "        plt.plot(\n",
    "            t_, x_,\n",
    "            c=ccolor(t_x, -vmax, vmax, 'PRGn'),\n",
    "            ls='-', lw=1., alpha=1.\n",
    "        )\n",
    "    \n",
    "# Joint scores for theta0 trajectories\n",
    "for z, z_cp, t_x in zip(z1[:n_plot], z_checkpoints1[:n_plot], t_x1[:n_plot]):\n",
    "    for i in range(len(checkpoints) - 1):\n",
    "        t = np.array(z)[:,0]\n",
    "        x = np.array(z)[:,1]\n",
    "        \n",
    "        tmin, tmax = checkpoints[i], checkpoints[i+1]\n",
    "        t_ = t[(t >= tmin) & (t < tmax)]\n",
    "        x_ = x[(t >= tmin) & (t < tmax)]\n",
    "        \n",
    "        t_ = np.hstack([[checkpoints[i]], t_, [checkpoints[i+1]]])\n",
    "        x_ = np.hstack([z_cp[i], x_, z_cp[i+1]])\n",
    "        \n",
    "        plt.plot(\n",
    "            t_, x_,\n",
    "            c=ccolor(t_x, -vmax, vmax, 'PRGn'),\n",
    "            ls='-', lw=1., alpha=1.\n",
    "        )\n",
    "    \n",
    "plt.xlim(-0.02,1.02)\n",
    "plt.ylim(xmin, xmax)\n",
    "\n",
    "plt.xlabel('t')\n",
    "plt.ylabel('x')\n",
    "\n",
    "# Color bar\n",
    "ax1 = fig.add_axes([0.87, 0.1, 0.03, 0.85])\n",
    "cb = matplotlib.colorbar.ColorbarBase(\n",
    "    ax1, cmap=matplotlib.cm.get_cmap(\"PRGn\"),\n",
    "    norm=matplotlib.colors.Normalize(vmin=-vmax, vmax=vmax),\n",
    "    orientation='vertical'\n",
    ")\n",
    "cb.set_label(r'$\\hat{t}(z_{n+1}| z_n, \\theta)$')\n",
    "    \n",
    "plt.savefig('random_walk_score.pdf')\n",
    "plt.show()"
   ]
  },
  {
   "cell_type": "code",
   "execution_count": null,
   "metadata": {},
   "outputs": [],
   "source": []
  }
 ],
 "metadata": {
  "kernelspec": {
   "display_name": "Python (higgs_inference)",
   "language": "python",
   "name": "higgs_inference"
  },
  "language_info": {
   "codemirror_mode": {
    "name": "ipython",
    "version": 3
   },
   "file_extension": ".py",
   "mimetype": "text/x-python",
   "name": "python",
   "nbconvert_exporter": "python",
   "pygments_lexer": "ipython3",
   "version": "3.6.7"
  }
 },
 "nbformat": 4,
 "nbformat_minor": 2
}
